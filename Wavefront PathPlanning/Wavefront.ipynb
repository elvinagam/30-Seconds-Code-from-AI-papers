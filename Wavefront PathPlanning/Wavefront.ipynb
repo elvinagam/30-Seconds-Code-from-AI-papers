{
  "cells": [
    {
      "cell_type": "markdown",
      "id": "7bf6bd36",
      "metadata": {
        "id": "7bf6bd36"
      },
      "source": [
        "# <center> **INTRODUCTION**\n",
        "<center> In this paper, I present a solution to the problem of finding the shortest path from a start point to a goal point in a 2D workspace with obstacles marked as X using the breadth-first search (BFS) algorithm. My algorithm takes a 2D workspace with obstacles, a start point S, and a goal point G as input and outputs the shortest path from S to G. I explain how my implementation of the BFS algorithm works step by step, including the creation of the workspace, the exploration of valid positions, and the reconstruction of the path. I also provide a visualization of the workspace with obstacles, start point, goal point, and the shortest path. My implementation provides an efficient and effective solution to this classic problem."
      ]
    },
    {
      "cell_type": "markdown",
      "id": "5f511ddb",
      "metadata": {
        "id": "5f511ddb"
      },
      "source": [
        "# <center> **BODY/ANALYSIS**"
      ]
    },
    {
      "cell_type": "markdown",
      "id": "bcf5c43b",
      "metadata": {
        "id": "bcf5c43b"
      },
      "source": [
        "**Q1. Using Python, create a script to find the shortest path from point S (start) to point G (goal) through a discretized workspace (6 rows by 12 columns) such as this (“.” designates a cell of free space, “X” represents a cell fully occupied by an obstacle). Use 4-connectivity** "
      ]
    },
    {
      "cell_type": "code",
      "execution_count": null,
      "id": "9b11efca",
      "metadata": {
        "id": "9b11efca"
      },
      "outputs": [],
      "source": [
        "#Importing Libraries\n",
        "import queue\n",
        "import numpy as np\n",
        "import matplotlib.pyplot as plt\n",
        "from IPython.display import display, Markdown, HTML, display_html\n",
        "from IPython.core.display import HTML\n",
        "\n",
        "import random"
      ]
    },
    {
      "cell_type": "code",
      "execution_count": null,
      "id": "05ffcd38",
      "metadata": {
        "id": "05ffcd38"
      },
      "outputs": [],
      "source": [
        "def create_workspace(obstacles, start_pos, goal_pos):\n",
        "    # Create a 6x12 workspace filled with \".\" \n",
        "    workspace = [[\".\" for _ in range(12)] for _ in range(6)]\n",
        "\n",
        "    # Mark the obstacles as \"X\" on the workspace\n",
        "    for obstacle in obstacles:\n",
        "        workspace[obstacle[0]][obstacle[1]] = \"X\"\n",
        "    \n",
        "    # Mark the starting position as \"S\" and the goal position as \"G\"\n",
        "    workspace[start_pos[0]][start_pos[1]] = \"S\"\n",
        "    workspace[goal_pos[0]][goal_pos[1]] = \"G\"\n",
        "\n",
        "    # Return the workspace\n",
        "    return workspace\n",
        "\n",
        "\n",
        "def is_valid_pos(pos, workspace):\n",
        "    # Extract row and column from pos\n",
        "    row, col = pos\n",
        "    \n",
        "    # Check if pos is within the bounds of the workspace\n",
        "    if row < 0 or row >= len(workspace) or col < 0 or col >= len(workspace[0]):\n",
        "        return False\n",
        "    \n",
        "    # Check if pos is not occupied by an obstacle\n",
        "    if workspace[row][col] == \"X\":\n",
        "        return False\n",
        "    \n",
        "    # If pos is valid, return True\n",
        "    return True\n",
        "\n",
        "\n",
        "def bfs(start_pos, goal_pos, workspace):\n",
        "    # Define the four directions of movement\n",
        "    directions = [(-1, 0), (0, -1), (1, 0), (0, 1)]\n",
        "    \n",
        "    # Initialize the visited set and the queue with the starting position and distance\n",
        "    visited = set()\n",
        "    q = queue.Queue()\n",
        "    q.put((start_pos, 0, None))\n",
        "    \n",
        "    # Initialize the wave expansion matrix\n",
        "    wave_expansion = np.zeros((len(workspace), len(workspace[0])))\n",
        "\n",
        "    while not q.empty():\n",
        "        # Get the next position, distance, and parent from the queue\n",
        "        pos, dist, parent = q.get()\n",
        "        \n",
        "        # Update the wave expansion matrix with the distance\n",
        "        wave_expansion[pos[0]][pos[1]] = dist\n",
        "        \n",
        "        # If the goal position is reached, construct and return the path\n",
        "        if pos == goal_pos:\n",
        "            path = []\n",
        "            while parent is not None:\n",
        "                path.append(pos)\n",
        "                pos, parent = parent\n",
        "            path.append(start_pos)\n",
        "            path.reverse()\n",
        "            return path, wave_expansion\n",
        "        \n",
        "        # If the position has already been visited, skip it\n",
        "        if pos in visited:\n",
        "            continue\n",
        "        \n",
        "        # Add the position to the visited set\n",
        "        visited.add(pos)\n",
        "        \n",
        "        # Loop through the four directions and check if the next position is valid\n",
        "        for d in directions:\n",
        "            next_pos = (pos[0] + d[0], pos[1] + d[1])\n",
        "            if not is_valid_pos(next_pos, workspace):\n",
        "                continue\n",
        "            \n",
        "            # Add the next position to the queue with updated distance and parent information\n",
        "            q.put((next_pos, dist + 1, (pos, parent)))\n",
        "    \n",
        "    # If the goal position is not reachable, return None and the wave expansion matrix\n",
        "    return None, wave_expansion\n",
        "\n",
        "\n",
        "def find_path(obstacles, start_pos, goal_pos):\n",
        "    # Create the workspace based on the obstacles, start_pos, and goal_pos\n",
        "    workspace = create_workspace(obstacles, start_pos, goal_pos)\n",
        "    \n",
        "    # Find the shortest path and wave expansion matrix using the BFS algorithm\n",
        "    path, wave_expansion = bfs(start_pos, goal_pos, workspace)\n",
        "\n",
        "    # If there is no path, print a message indicating this\n",
        "    if path is None:\n",
        "        print(\"No path found\")\n",
        "    \n",
        "    # Otherwise, print the shortest path and its length\n",
        "    else:\n",
        "        print(f\"Shortest path: {path}\")\n",
        "        print(f\"Path length: {len(path)-1}\")"
      ]
    },
    {
      "cell_type": "markdown",
      "id": "95b78cff",
      "metadata": {
        "id": "95b78cff"
      },
      "source": [
        "##### EXPLANATION\n",
        "    The create_workspace function is defined. This function takes in three parameters: obstacles, start_pos, and goal_pos. It creates a 6x12 workspace filled with \".\" characters and marks the obstacles as \"X\" on the workspace. It also marks the starting position as \"S\" and the goal position as \"G\" on the workspace. The resulting workspace is returned.\n",
        "\n",
        "    The is_valid_pos function is defined. This function takes in two parameters: pos and workspace. It first extracts the row and col values from pos. Then, it checks if the position is within the bounds of the workspace by comparing the row and col values to the length of the workspace and the length of the first row of the workspace, respectively. If pos is out of bounds, the function returns False. Next, the function checks if pos is occupied by an obstacle by checking the value of workspace[row][col]. If pos is occupied by an obstacle, the function returns False. If pos is valid and not occupied by an obstacle, the function returns True.\n",
        "\n",
        "    The bfs function is defined. This function takes in three parameters: start_pos, goal_pos, and workspace. It first defines the four possible directions of movement and initializes a visited set, a queue, and a wave_expansion matrix. It enters a while loop that continues as long as there are positions to visit in the queue. In each iteration of the loop, the function retrieves the next position, distance, and parent from the queue. It updates the wave_expansion matrix with the distance of the current position from the starting position. If the current position is the goal position, the function constructs and returns the path from the starting position to the goal position using the parent information and updates the wave_expansion matrix accordingly. If the current position has already been visited, the function skips it and moves on to the next position in the queue. Otherwise, the function adds the current position to the visited set, loops through the four directions of movement to check if the next position is valid, and adds any valid next positions to the queue with updated distance and parent information. If the goal position is not reachable from the starting position, the function returns None for the path and the wave_expansion matrix.\n",
        "\n",
        "    The find_path function is defined. This function takes in three parameters: obstacles, start_pos, and goal_pos. It first creates a workspace using the create_workspace function based on the obstacles, start_pos, and goal_pos. Then, it uses the bfs function to find the shortest path and wave expansion matrix in the workspace. If there is no path returned by the bfs function, the function prints a message indicating that no path was found. Otherwise, the function prints the path and its length by subtracting 1 from the length of the path list. (Davies, A. J. 2022, August 12)"
      ]
    },
    {
      "cell_type": "code",
      "execution_count": null,
      "id": "849fe871",
      "metadata": {
        "id": "849fe871",
        "outputId": "fd769328-d07d-4efa-d64b-42c5de4c9955"
      },
      "outputs": [
        {
          "name": "stdout",
          "output_type": "stream",
          "text": [
            "Shortest path: [(0, 0), (0, 1), (0, 2), (1, 2), (1, 3), (2, 3), (2, 4), (3, 4), (3, 5), (4, 5), (4, 6), (5, 6), (5, 7), (5, 8), (5, 9), (5, 10), (5, 11)]\n",
            "Path length: 16\n"
          ]
        }
      ],
      "source": [
        "# Example usage:\n",
        "obstacles = [(1, 1), (2, 2), (3, 3), (4, 4), (5, 5), (3, 9), (2, 8)]\n",
        "start_pos = (0, 0)\n",
        "goal_pos = (5, 11)\n",
        "\n",
        "find_path(obstacles, start_pos, goal_pos)"
      ]
    },
    {
      "cell_type": "markdown",
      "id": "d56355f3",
      "metadata": {
        "id": "d56355f3"
      },
      "source": [
        "In the output, the shortest path is represented by a list of tuples, where each tuple represents a coordinate on the path from start to goal. The path starts at (0,0) and ends at (5,11), and it avoids all the obstacles.\n",
        "\n",
        "The length of the path is 16, which represents the number of steps needed to go from the start position to the goal position, while avoiding the obstacles."
      ]
    },
    {
      "cell_type": "markdown",
      "id": "d8491175",
      "metadata": {
        "id": "d8491175"
      },
      "source": [
        "**Q2: Find a way to visualize the calculated path, including the path length, with the final state of the wave expansion.**"
      ]
    },
    {
      "cell_type": "code",
      "execution_count": null,
      "id": "d59776b7",
      "metadata": {
        "id": "d59776b7"
      },
      "outputs": [],
      "source": [
        "def find_path(obstacles, start_pos, goal_pos):\n",
        "    # Create the workspace based on the obstacles, start_pos, and goal_pos\n",
        "    workspace = create_workspace(obstacles, start_pos, goal_pos)\n",
        "    \n",
        "    # Find the shortest path and wave expansion matrix using the BFS algorithm\n",
        "    path, wave_expansion = bfs(start_pos, goal_pos, workspace)\n",
        "\n",
        "    # If there is no path, print a message indicating this\n",
        "    if path is None:\n",
        "        print(\"No path found\")\n",
        "    \n",
        "    # Otherwise, print the shortest path and its length, and visualize the path on the workspace\n",
        "    else:\n",
        "        print(f\"Shortest path: {path}\")\n",
        "        print(f\"Path length: {len(path)-1}\")\n",
        "\n",
        "        # Create a color map for the workspace\n",
        "        color_map = np.zeros((len(workspace), len(workspace[0])), dtype=int)\n",
        "\n",
        "        # Mark the obstacles, start, and goal positions\n",
        "        for obs in obstacles:\n",
        "            color_map[obs[0]][obs[1]] = 1\n",
        "        color_map[start_pos[0]][start_pos[1]] = 2\n",
        "        color_map[goal_pos[0]][goal_pos[1]] = 3\n",
        "\n",
        "        # Create the visualization\n",
        "        cmap = plt.cm.get_cmap(\"tab10\", 4)\n",
        "        plt.imshow(color_map, cmap=cmap)\n",
        "\n",
        "        # Overlay the path on top\n",
        "        x = [pos[1] for pos in path]\n",
        "        y = [pos[0] for pos in path]\n",
        "        plt.plot(x, y, 'k--', linewidth=2)\n",
        "\n",
        "        # Add the \"S\" and \"G\" labels for start and goal positions\n",
        "        plt.text(start_pos[1], start_pos[0], 'S', fontsize=12, fontweight='bold', ha='center', va='center', color='k')\n",
        "        plt.text(goal_pos[1], goal_pos[0], 'G', fontsize=12, fontweight='bold', ha='center', va='center', color='k')\n",
        "\n",
        "        # Customize the plot\n",
        "        plt.xticks(np.arange(-0.5, len(workspace[0]), 1), [])\n",
        "        plt.yticks(np.arange(-0.5, len(workspace), 1), [])\n",
        "        plt.grid(True, color='k', linewidth=1)\n",
        "        plt.gca().invert_yaxis()\n",
        "\n",
        "        # Show the plot\n",
        "        plt.show()"
      ]
    },
    {
      "cell_type": "code",
      "execution_count": null,
      "id": "8973dcd2",
      "metadata": {
        "id": "8973dcd2",
        "outputId": "104a5f00-7e7c-4ad0-eb02-78bb8e875124"
      },
      "outputs": [
        {
          "name": "stdout",
          "output_type": "stream",
          "text": [
            "Shortest path: [(0, 0), (0, 1), (0, 2), (1, 2), (1, 3), (2, 3), (2, 4), (3, 4), (3, 5), (4, 5), (4, 6), (4, 7), (4, 8), (4, 9), (4, 10), (4, 11), (5, 11)]\n",
            "Path length: 16\n"
          ]
        },
        {
          "data": {
            "image/png": "[encoded data removed]",
            "text/plain": [
              "<Figure size 640x480 with 1 Axes>"
            ]
          },
          "metadata": {},
          "output_type": "display_data"
        }
      ],
      "source": [
        "# Example usage:\n",
        "obstacles = [(1, 1), (2, 2), (3, 3), (4, 4), (5, 5), (3, 9), (5, 10)]\n",
        "start_pos = (0, 0)\n",
        "goal_pos = (5, 11)\n",
        "\n",
        "find_path(obstacles, start_pos, goal_pos)"
      ]
    },
    {
      "cell_type": "markdown",
      "id": "e22f87aa",
      "metadata": {
        "id": "e22f87aa"
      },
      "source": [
        "**<center> Figure 1. Here the Pink Box Represents the Starting point and Cyan Box represnts the end point and Red Boxes are obstacles**"
      ]
    },
    {
      "cell_type": "markdown",
      "id": "0543c208",
      "metadata": {
        "id": "0543c208"
      },
      "source": [
        "Here you can see that S which is the starting point is represented by Pink Box, and the goal is repsented by Sky Blue Box. All the Obstacles are represented in Red.\n",
        "\n",
        "**The desrired path is a dotted line from S to G**\n",
        "\n",
        "Here we are using a 4 point Connectivity\n",
        "\n",
        "In 4-point connectivity, a cell is only considered adjacent to its four immediate neighbors: the cells to the north, south, east, and west of it. This means that the cell has only four possible adjacent cells."
      ]
    },
    {
      "cell_type": "markdown",
      "id": "82b3e2b0",
      "metadata": {
        "id": "82b3e2b0"
      },
      "source": [
        "**Q3: Change to 8-connectivity, recalculate, visualize and interpret the results**"
      ]
    },
    {
      "cell_type": "code",
      "execution_count": null,
      "id": "8dd642bf",
      "metadata": {
        "id": "8dd642bf"
      },
      "outputs": [],
      "source": [
        "def bfs(start_pos, goal_pos, workspace):\n",
        "    # Define the 8 possible directions of movement (8-connectivity)\n",
        "    directions = [(-1, 0), (0, -1), (1, 0), (0, 1), (-1, -1), (-1, 1), (1, -1), (1, 1)]\n",
        "\n",
        "    # Initialize a set to keep track of visited positions, a queue to explore positions, and a wave expansion matrix\n",
        "    visited = set()\n",
        "    q = queue.Queue()\n",
        "    q.put((start_pos, 0, None))\n",
        "    wave_expansion = np.zeros((len(workspace), len(workspace[0])))\n",
        "\n",
        "    # Enter a while loop that continues until the queue is empty\n",
        "    while not q.empty():\n",
        "        # Get the next position, distance, and parent from the queue\n",
        "        pos, dist, parent = q.get()\n",
        "        # Update the wave expansion matrix with the distance of the current position from the starting position\n",
        "        wave_expansion[pos[0]][pos[1]] = dist\n",
        "\n",
        "        # If the current position is the goal position, construct and return the path from the starting position to the goal position using the parent information\n",
        "        if pos == goal_pos:\n",
        "            path = []\n",
        "            while parent is not None:\n",
        "                path.append(pos)\n",
        "                pos, parent = parent\n",
        "            path.append(start_pos)\n",
        "            path.reverse()\n",
        "            return path, wave_expansion\n",
        "        \n",
        "        # If the current position has already been visited, skip it and move on to the next position in the queue\n",
        "        if pos in visited:\n",
        "            continue\n",
        "        \n",
        "        # Otherwise, add the current position to the visited set and loop through the directions of movement to check if the next position is valid\n",
        "        visited.add(pos)\n",
        "        for d in directions:\n",
        "            next_pos = (pos[0] + d[0], pos[1] + d[1])\n",
        "            # If the next position is not valid, skip it\n",
        "            if not is_valid_pos(next_pos, workspace):\n",
        "                continue\n",
        "            # Otherwise, add the next position to the queue with updated distance and parent information\n",
        "            q.put((next_pos, dist + 1, (pos, parent)))\n",
        "    \n",
        "    # If the goal position is not reachable from the starting position, return None for the path and the wave expansion matrix\n",
        "    return None, wave_expansion\n"
      ]
    },
    {
      "cell_type": "code",
      "execution_count": null,
      "id": "717aa878",
      "metadata": {
        "id": "717aa878",
        "outputId": "e28d0468-3ceb-45a0-ace9-cee5a33afdd7"
      },
      "outputs": [
        {
          "name": "stdout",
          "output_type": "stream",
          "text": [
            "Shortest path: [(0, 0), (0, 1), (0, 2), (0, 3), (0, 4), (0, 5), (1, 6), (2, 7), (3, 8), (4, 9), (4, 10), (5, 11)]\n",
            "Path length: 11\n"
          ]
        },
        {
          "data": {
            "image/png": "[encoded data removed]",
            "text/plain": [
              "<Figure size 640x480 with 1 Axes>"
            ]
          },
          "metadata": {},
          "output_type": "display_data"
        }
      ],
      "source": [
        "# Example usage:\n",
        "obstacles = [(1, 1), (2, 2), (3, 3), (4, 4), (5, 5), (3, 9), (5, 9)]\n",
        "start_pos = (0, 0)\n",
        "goal_pos = (5, 11)\n",
        "\n",
        "find_path(obstacles, start_pos, goal_pos)"
      ]
    },
    {
      "cell_type": "markdown",
      "id": "129bef22",
      "metadata": {
        "id": "129bef22"
      },
      "source": [
        "**<center> Figure 2. Here the start and end point is same and the obstancesl are same as well. But here we are using 8 point connectivity**"
      ]
    },
    {
      "cell_type": "markdown",
      "id": "97a18e5d",
      "metadata": {
        "id": "97a18e5d"
      },
      "source": [
        "Now again the start and end point are the same but we are using an 8 point connectivity here\n",
        "\n",
        "With 8-point connectivity, the pathfinding algorithm considers diagonal moves between cells in addition to vertical and horizontal moves, which results in a larger set of possible paths to reach the destination. This can result in more optimal and direct paths being found, compared to the paths found with 4-point connectivity, where diagonal moves are not allowed. However, the increased number of possible paths to consider also means that pathfinding algorithms that use 8-point connectivity may be computationally more expensive than those that use 4-point connectivity."
      ]
    },
    {
      "cell_type": "markdown",
      "id": "421b86b2",
      "metadata": {
        "id": "421b86b2"
      },
      "source": [
        "**Q4: Modify the code so that the coordinates of “S” and “G” are randomly generated (obviously, the locations of\n",
        "those cannot be in the obstacle area). Run this simulation in a loop. At the end of each simulation, display the\n",
        "path. For the sake of the exercise, repeat the loop just three times. Either connectivity (4 or 8) is acceptable. For\n",
        "simplicity, you can restrict randomly generated “S”s to the left half and “G”s to the right half**"
      ]
    },
    {
      "cell_type": "code",
      "execution_count": null,
      "id": "68997825",
      "metadata": {
        "id": "68997825"
      },
      "outputs": [],
      "source": [
        "obstacles = [(4, 1), (5, 2), (3, 6), (4, 4), (5, 5), (3, 9), (5, 9), (2, 9)]"
      ]
    },
    {
      "cell_type": "code",
      "execution_count": null,
      "id": "0604ae21",
      "metadata": {
        "id": "0604ae21"
      },
      "outputs": [],
      "source": [
        "def generate_random_position(obstacles, workspace_rows, workspace_cols, side):\n",
        "    # Enter an infinite loop that continues until a valid position is generated\n",
        "    while True:\n",
        "        # Generate a random row within the appropriate range based on the specified side\n",
        "        row = random.randint(0, 1) if side == \"start\" else random.randint(workspace_rows - 2, workspace_rows - 1)\n",
        "\n",
        "        # Generate a random column within the appropriate range based on the specified side\n",
        "        if side == \"start\":\n",
        "            col = random.randint(0, workspace_cols // 2 - 1)\n",
        "        else:\n",
        "            col = random.randint(workspace_cols // 2, workspace_cols - 1)\n",
        "\n",
        "        # Construct a position tuple from the row and column\n",
        "        pos = (row, col)\n",
        "\n",
        "        # Check if the position is not an obstacle, and return it if it is valid\n",
        "        if pos not in obstacles:\n",
        "            return pos"
      ]
    },
    {
      "cell_type": "code",
      "execution_count": null,
      "id": "81fb3655",
      "metadata": {
        "id": "81fb3655",
        "outputId": "9edbfd39-c25d-419c-9a79-c3371589e78c"
      },
      "outputs": [
        {
          "name": "stdout",
          "output_type": "stream",
          "text": [
            "\n",
            "Start position: (0, 2)\n",
            "Goal position: (5, 7)\n",
            "Shortest path: [(0, 2), (1, 3), (2, 4), (3, 5), (4, 6), (5, 7)]\n",
            "Path length: 5\n"
          ]
        },
        {
          "data": {
            "image/png": "[encoded data removed]",
            "text/plain": [
              "<Figure size 640x480 with 1 Axes>"
            ]
          },
          "metadata": {},
          "output_type": "display_data"
        },
        {
          "data": {
            "text/html": [
              "<b>Figure 3 Shortest path with Random Start and End points with 8 point connectivity</b>"
            ],
            "text/plain": [
              "<IPython.core.display.HTML object>"
            ]
          },
          "metadata": {},
          "output_type": "display_data"
        },
        {
          "name": "stdout",
          "output_type": "stream",
          "text": [
            "\n",
            "Start position: (0, 0)\n",
            "Goal position: (4, 11)\n",
            "Shortest path: [(0, 0), (0, 1), (0, 2), (0, 3), (0, 4), (0, 5), (1, 6), (2, 7), (3, 8), (4, 9), (4, 10), (4, 11)]\n",
            "Path length: 11\n"
          ]
        },
        {
          "data": {
            "image/png": "[encoded data removed]",
            "text/plain": [
              "<Figure size 640x480 with 1 Axes>"
            ]
          },
          "metadata": {},
          "output_type": "display_data"
        },
        {
          "data": {
            "text/html": [
              "<b>Figure 4 Shortest path with Random Start and End points with 8 point connectivity</b>"
            ],
            "text/plain": [
              "<IPython.core.display.HTML object>"
            ]
          },
          "metadata": {},
          "output_type": "display_data"
        },
        {
          "name": "stdout",
          "output_type": "stream",
          "text": [
            "\n",
            "Start position: (1, 3)\n",
            "Goal position: (5, 7)\n",
            "Shortest path: [(1, 3), (2, 4), (3, 5), (4, 6), (5, 7)]\n",
            "Path length: 4\n"
          ]
        },
        {
          "data": {
            "image/png": "[encoded data removed]",
            "text/plain": [
              "<Figure size 640x480 with 1 Axes>"
            ]
          },
          "metadata": {},
          "output_type": "display_data"
        },
        {
          "data": {
            "text/html": [
              "<b>Figure 5 Shortest path with Random Start and End points with 8 point connectivity</b>"
            ],
            "text/plain": [
              "<IPython.core.display.HTML object>"
            ]
          },
          "metadata": {},
          "output_type": "display_data"
        }
      ],
      "source": [
        "workspace=create_workspace(obstacles, start_pos, goal_pos)\n",
        "fig_num=3\n",
        "\n",
        "# Loop through 3 iterations\n",
        "for _ in range(3):\n",
        "    # Generate a random start position and a random goal position that are not obstacles\n",
        "    start_pos = generate_random_position(obstacles, len(workspace), len(workspace[0]), \"start\")\n",
        "    goal_pos = generate_random_position(obstacles, len(workspace), len(workspace[0]), \"goal\")\n",
        "\n",
        "    # Print the start and goal positions\n",
        "    print(f\"\\nStart position: {start_pos}\")\n",
        "    print(f\"Goal position: {goal_pos}\")\n",
        "\n",
        "    # Find the shortest path from the start position to the goal position and visualize it\n",
        "    find_path(obstacles, start_pos, goal_pos)\n",
        "    \n",
        "    text = f\"Figure {fig_num} Shortest path with Random Start and End points with 8 point connectivity\"\n",
        "    centered_text = text.center(80)\n",
        "    bold_text = f\"<b>{centered_text}</b>\"\n",
        "\n",
        "    display(HTML(bold_text))\n",
        "\n",
        "    fig_num=fig_num+1\n"
      ]
    },
    {
      "cell_type": "markdown",
      "id": "45c4ed83",
      "metadata": {
        "id": "45c4ed83"
      },
      "source": [
        " **Q5: Reflect on the results**"
      ]
    },
    {
      "cell_type": "markdown",
      "id": "1718ce94",
      "metadata": {
        "id": "1718ce94"
      },
      "source": [
        "    1.In my experience with the find_path function, I found that the breadth-first search (BFS) algorithm was effective in finding a shortest path from the start position to the goal position while avoiding obstacles. The resulting path was displayed clearly in the visualization produced by the function, making it easy to understand and interpret the solution. (Kim, R. n.d.)\n",
        "\n",
        "    2.I also learned that the use of 8-point connectivity in the algorithm allowed for diagonal moves, which can result in more optimal and direct paths being found compared to using 4-point connectivity. However, it's important to consider the trade-off between the increased number of possible paths to consider and the computational expense of the algorithm, especially for larger grids or more complex environments.\n",
        "\n",
        "    3.In addition, my experience with the find_path function highlighted the importance of understanding the underlying principles and mechanics of pathfinding algorithms. Having a good understanding of the algorithm allowed me to make informed decisions about how to set the input parameters to get the best results. (Kim, R. n.d.)\n",
        "\n",
        "    4.Furthermore, the find_path function served as a good example of how programming can be used to solve real-world problems. Being able to write a function that can navigate a grid-based environment and find the shortest path between two points is a valuable skill that has many practical applications in various fields, including robotics, gaming, and logistics, among others.\n",
        "\n",
        "Overall, my experience with the find_path function was both informative and practical, and I feel that it has equipped me with valuable knowledge and skills that I can apply to future projects and problems."
      ]
    },
    {
      "cell_type": "markdown",
      "id": "93785dff",
      "metadata": {
        "id": "93785dff"
      },
      "source": [
        "### References"
      ]
    },
    {
      "cell_type": "markdown",
      "id": "0b9d75fc",
      "metadata": {
        "id": "0b9d75fc"
      },
      "source": [
        "    1. Davies, A. J. (2022, August 12). Python project idea: Graph traversal and pathfinding algorithm visualisations. Medium. https://medium.com/codex/python-project-idea-graph-traversal-and-pathfinding-algorithm-visualisations-99595c414293\n",
        "\n",
        "    2. Simic, M. (2023, March 24). DFS vs. BFS vs. Dijkstra. Baeldung. https://www.baeldung.com/cs/dfs-vs-bfs-vs-dijkstra\n",
        "\n",
        "    3. Kim, R. (n.d.). BFS & DFS – Path Finding Algorithms. KGSEA. Retrieved March 25, 2023, from http://kgsea.org/wp-content/uploads/2020/07/Raymond-Kim-BFS-DFS-%E2%80%93-Path-Finding-Algorithms.pdf"
      ]
    },
    {
      "cell_type": "code",
      "execution_count": null,
      "id": "67bd38cd",
      "metadata": {
        "id": "67bd38cd"
      },
      "outputs": [],
      "source": []
    }
  ],
  "metadata": {
    "kernelspec": {
      "display_name": "Python 3 (ipykernel)",
      "language": "python",
      "name": "python3"
    },
    "language_info": {
      "codemirror_mode": {
        "name": "ipython",
        "version": 3
      },
      "file_extension": ".py",
      "mimetype": "text/x-python",
      "name": "python",
      "nbconvert_exporter": "python",
      "pygments_lexer": "ipython3",
      "version": "3.9.12"
    },
    "colab": {
      "provenance": []
    }
  },
  "nbformat": 4,
  "nbformat_minor": 5
}
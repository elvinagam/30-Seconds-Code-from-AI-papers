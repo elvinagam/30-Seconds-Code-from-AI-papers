{
  "nbformat": 4,
  "nbformat_minor": 0,
  "metadata": {
    "colab": {
      "provenance": [],
      "collapsed_sections": []
    },
    "kernelspec": {
      "name": "python3",
      "display_name": "Python 3"
    },
    "language_info": {
      "name": "python"
    },
    "gpuClass": "standard",
    "accelerator": "GPU"
  },
  "cells": [
    {
      "cell_type": "markdown",
      "source": [
        "# JAX Crash Course\n",
        "\n",
        "## Outline\n",
        "- What is JAX?\n",
        "- Speed comparison\n",
        "- Replacement for NumPy\n",
        "- Speed up computations with jit()\n",
        "- Automatic Differentiation with grad()\n",
        "- Automatic Vectorization with vmap()\n",
        "- Automatic Parallelization with pmap()\n",
        "- Example Training Loop With JAX\n",
        "- What's the catch?\n",
        "- Summary\n",
        "\n",
        "## Resources:\n",
        "- [Official JAX Website](https://jax.readthedocs.io/en/latest/index.html)\n",
        "- [Why You Should (or Shouldn't) be Using Google's JAX in 2022](https://www.assemblyai.com/blog/why-you-should-or-shouldnt-be-using-jax-in-2022/)"
      ],
      "metadata": {
        "id": "WlevbFFcOmdX"
      }
    },
    {
      "cell_type": "markdown",
      "source": [
        "## What is JAX?\n",
        "JAX is Autograd and [XLA](https://www.tensorflow.org/xla), brought together for high-performance numerical computing and machine learning research. It provides composable transformations of Python+NumPy programs: differentiate, vectorize, parallelize, Just-In-Time compile to GPU/TPU, and more.\n",
        "\n",
        "In simpler words: JAX is NumPy on the CPU, GPU, and TPU, with great automatic differentiation for high-performance machine learning research.\n",
        "\n",
        "#### XLA\n",
        "XLA: Accelerated Linear Algebra, lies at the foundation of what makes JAX so powerful. Developed by Google, XLA is a domain-specific, graph-based, just-in-time compiler for linear algebra.\n",
        "\n",
        "It significantly improves execution speed and lowers memory usage by fusing low-level operations.\n"
      ],
      "metadata": {
        "id": "yQCrc7d_Pjww"
      }
    },
    {
      "cell_type": "markdown",
      "source": [
        "## Speed Comparison\n",
        "Huge performance boost when running on GPU/TPU, but even on CPU!"
      ],
      "metadata": {
        "id": "qWD21Ki-PvXe"
      }
    },
    {
      "cell_type": "code",
      "source": [
        "import numpy as np\n",
        "\n",
        "def fn(x):\n",
        "  return x + x*x + x*x*x\n",
        "\n",
        "x = np.random.randn(10000, 10000).astype(dtype='float32')\n",
        "%timeit -n5 fn(x)"
      ],
      "metadata": {
        "id": "KWHJk7sPPyad",
        "outputId": "f7a43a34-106b-41b6-a258-8d1a113d0292",
        "colab": {
          "base_uri": "https://localhost:8080/"
        }
      },
      "execution_count": null,
      "outputs": [
        {
          "output_type": "stream",
          "name": "stdout",
          "text": [
            "452 ms ± 34.9 ms per loop (mean ± std. dev. of 7 runs, 5 loops each)\n"
          ]
        }
      ]
    },
    {
      "cell_type": "code",
      "source": [
        "import jax.numpy as jnp # JAX NUmpy\n",
        "from jax import jit # JAX JIT\n",
        "\n",
        "jax_fn = jit(fn)\n",
        "x = jnp.array(x)\n",
        "%timeit -n5 jax_fn(x).block_until_ready() \n",
        "# Use block_until_ready because JAX uses asynchronous execution by default"
      ],
      "metadata": {
        "id": "CnX2ay0TP2AF",
        "outputId": "d0792cac-4aa6-465f-d9ec-490f905ff8a2",
        "colab": {
          "base_uri": "https://localhost:8080/"
        }
      },
      "execution_count": null,
      "outputs": [
        {
          "output_type": "stream",
          "name": "stdout",
          "text": [
            "3.89 ms ± 210 µs per loop (mean ± std. dev. of 7 runs, 5 loops each)\n"
          ]
        }
      ]
    },
    {
      "cell_type": "markdown",
      "source": [
        "Now, change your runtime to GPU, and see the order of magnitude difference of Numpy on steroids."
      ],
      "metadata": {
        "id": "fnvdThgJrIfS"
      }
    },
    {
      "cell_type": "markdown",
      "source": [
        "## Drop-in Replacement for NumPy\n",
        "JAX numpy can often be used as drop-in replacement for numpy since the API is almost identical. One useful feature of JAX is that the same code can be run on different backends – CPU, GPU and TPU."
      ],
      "metadata": {
        "id": "s2E5gaz9QOSJ"
      }
    },
    {
      "cell_type": "code",
      "source": [
        "import matplotlib.pyplot as plt\n",
        "import numpy as np\n",
        "\n",
        "x_np = np.linspace(0, 10, 1000)\n",
        "y_np = 2 * np.sin(x_np) * np.cos(x_np)\n",
        "plt.plot(x_np, y_np)"
      ],
      "metadata": {
        "id": "V2qUtvH5QRau",
        "outputId": "e69829a5-ec2f-4130-a8e7-75940cc612a3",
        "colab": {
          "base_uri": "https://localhost:8080/",
          "height": 282
        }
      },
      "execution_count": null,
      "outputs": [
        {
          "output_type": "execute_result",
          "data": {
            "text/plain": [
              "[<matplotlib.lines.Line2D at 0x7faf602dd990>]"
            ]
          },
          "metadata": {},
          "execution_count": 4
        },
        {
          "output_type": "display_data",
          "data": {
            "text/plain": [
              "<Figure size 432x288 with 1 Axes>"
            ],
            "image/png": "[encoded data removed]"
          },
          "metadata": {
            "needs_background": "light"
          }
        }
      ]
    },
    {
      "cell_type": "code",
      "source": [
        "import jax.numpy as jnp\n",
        "\n",
        "x_jnp = jnp.linspace(0, 10, 1000)\n",
        "y_jnp = 2 * jnp.sin(x_jnp) * jnp.cos(x_jnp)\n",
        "plt.plot(x_jnp, y_jnp)"
      ],
      "metadata": {
        "id": "O63kYGWCQV1t",
        "outputId": "b979faf0-aa35-4681-db15-0149d87eae19",
        "colab": {
          "base_uri": "https://localhost:8080/",
          "height": 282
        }
      },
      "execution_count": null,
      "outputs": [
        {
          "output_type": "execute_result",
          "data": {
            "text/plain": [
              "[<matplotlib.lines.Line2D at 0x7faf60025f90>]"
            ]
          },
          "metadata": {},
          "execution_count": 5
        },
        {
          "output_type": "display_data",
          "data": {
            "text/plain": [
              "<Figure size 432x288 with 1 Axes>"
            ],
            "image/png": "[encoded data removed]"
          },
          "metadata": {
            "needs_background": "light"
          }
        }
      ]
    },
    {
      "cell_type": "markdown",
      "source": [
        "Using this alone can bring a nice performance boost on the GPU/TPU.\n",
        "\n",
        "**Big difference: JAX arrays are immutable!**"
      ],
      "metadata": {
        "id": "olKbYupoQb7J"
      }
    },
    {
      "cell_type": "code",
      "source": [
        "x = np.arange(10)\n",
        "x[0] = 10\n",
        "x"
      ],
      "metadata": {
        "id": "ZmDKEcxdQjd-",
        "outputId": "75e4db9f-16a1-4a68-efe6-a0d5c21437b8",
        "colab": {
          "base_uri": "https://localhost:8080/"
        }
      },
      "execution_count": null,
      "outputs": [
        {
          "output_type": "execute_result",
          "data": {
            "text/plain": [
              "array([10,  1,  2,  3,  4,  5,  6,  7,  8,  9])"
            ]
          },
          "metadata": {},
          "execution_count": 6
        }
      ]
    },
    {
      "cell_type": "code",
      "source": [
        "x = jnp.arange(10)\n",
        "x[0] = 10"
      ],
      "metadata": {
        "id": "-4ryabwFQaI3"
      },
      "execution_count": null,
      "outputs": []
    },
    {
      "cell_type": "markdown",
      "source": [
        "## Speed up computations with jit()\n",
        "Just-in-time, or JIT compilation, is a method of executing code that lies between interpretation and ahead-of-time (AoT) compilation.\n",
        "\n",
        "The important fact is that a JIT-compiler will compile code at runtime into a fast executable (at the cost of a slower first run)."
      ],
      "metadata": {
        "id": "2N7HhPIaTBR0"
      }
    },
    {
      "cell_type": "code",
      "source": [
        "def fn(x):\n",
        "  return x + x*x + x*x*x\n",
        "\n",
        "x_np = np.random.randn(5000, 5000).astype(dtype='float32')\n",
        "%timeit -n5 fn(x_np)\n",
        "\n",
        "x_jnp = jnp.array(x_np)\n",
        "%timeit -n5 fn(x_jnp).block_until_ready()\n",
        "\n",
        "jitted = jit(fn)\n",
        "%timeit -n5 jitted(x_jnp).block_until_ready()"
      ],
      "metadata": {
        "id": "U2GA4pvyQ1XC",
        "outputId": "782535ce-fa2f-4e48-c163-a2429ae01659",
        "colab": {
          "base_uri": "https://localhost:8080/"
        }
      },
      "execution_count": null,
      "outputs": [
        {
          "output_type": "stream",
          "name": "stdout",
          "text": [
            "78.5 ms ± 1.01 ms per loop (mean ± std. dev. of 7 runs, 5 loops each)\n",
            "The slowest run took 6.41 times longer than the fastest. This could mean that an intermediate result is being cached.\n",
            "10.2 ms ± 10.9 ms per loop (mean ± std. dev. of 7 runs, 5 loops each)\n",
            "The slowest run took 17.28 times longer than the fastest. This could mean that an intermediate result is being cached.\n",
            "3.49 ms ± 5.9 ms per loop (mean ± std. dev. of 7 runs, 5 loops each)\n"
          ]
        }
      ]
    },
    {
      "cell_type": "code",
      "source": [
        "# Use as decorator\n",
        "@jit\n",
        "def fn_jitted(x):\n",
        "  return x + x*x + x*x*x\n",
        "\n",
        "%timeit -n5 fn_jitted(x_jnp).block_until_ready()"
      ],
      "metadata": {
        "id": "cx4tI51ATiC8",
        "outputId": "15527e62-a13c-4dc4-f2f2-7cafe8f4c8de",
        "colab": {
          "base_uri": "https://localhost:8080/"
        }
      },
      "execution_count": null,
      "outputs": [
        {
          "output_type": "stream",
          "name": "stdout",
          "text": [
            "The slowest run took 5.90 times longer than the fastest. This could mean that an intermediate result is being cached.\n",
            "1.89 ms ± 1.75 ms per loop (mean ± std. dev. of 7 runs, 5 loops each)\n"
          ]
        }
      ]
    },
    {
      "cell_type": "markdown",
      "source": [
        "## How does JIT works?\n",
        "\n",
        "JIT and other JAX transforms work by tracing a function to determine its effect on inputs of a specific shape and type."
      ],
      "metadata": {
        "id": "Y3zI_MYsaV8s"
      }
    },
    {
      "cell_type": "code",
      "source": [
        "@jit\n",
        "def f(x, y):\n",
        "  print(\"Running f():\")\n",
        "  print(f\"  x = {x}\")\n",
        "  print(f\"  y = {y}\")\n",
        "  result = jnp.dot(x + 1, y + 1)\n",
        "  print(f\"  result = {result}\")\n",
        "  return result\n",
        "\n",
        "x = np.random.randn(3, 4)\n",
        "y = np.random.randn(4)"
      ],
      "metadata": {
        "id": "fqjIGPWPT6Wj"
      },
      "execution_count": null,
      "outputs": []
    },
    {
      "cell_type": "code",
      "source": [
        "f(x, y)"
      ],
      "metadata": {
        "id": "s2acvEDiXjlJ",
        "outputId": "b16dd8a8-3d95-40e1-f512-e0b0b39a5453",
        "colab": {
          "base_uri": "https://localhost:8080/"
        }
      },
      "execution_count": null,
      "outputs": [
        {
          "output_type": "stream",
          "name": "stdout",
          "text": [
            "Running f():\n",
            "  x = Traced<ShapedArray(float32[3,4])>with<DynamicJaxprTrace(level=0/1)>\n",
            "  y = Traced<ShapedArray(float32[4])>with<DynamicJaxprTrace(level=0/1)>\n",
            "  result = Traced<ShapedArray(float32[3])>with<DynamicJaxprTrace(level=0/1)>\n"
          ]
        },
        {
          "output_type": "execute_result",
          "data": {
            "text/plain": [
              "DeviceArray([ 5.360718 , -1.0896459,  5.3623643], dtype=float32)"
            ]
          },
          "metadata": {},
          "execution_count": 14
        }
      ]
    },
    {
      "cell_type": "code",
      "source": [
        "f(x, y)"
      ],
      "metadata": {
        "id": "C1eojc_XXkYA",
        "outputId": "6f22e613-c87e-40ae-8036-56c045d83455",
        "colab": {
          "base_uri": "https://localhost:8080/"
        }
      },
      "execution_count": null,
      "outputs": [
        {
          "output_type": "execute_result",
          "data": {
            "text/plain": [
              "DeviceArray([-0.02275586,  0.89055014,  2.5496786 ], dtype=float32)"
            ]
          },
          "metadata": {},
          "execution_count": 12
        }
      ]
    },
    {
      "cell_type": "markdown",
      "source": [
        "Notice that the print statements execute, but rather than printing the data we passed to the function, though, it prints tracer objects that stand-in for them.\n",
        "\n",
        "These tracer objects are what jax.jit uses to extract the sequence of operations specified by the function. Basic tracers are stand-ins that encode the shape and dtype of the arrays, but are agnostic to the values. This recorded sequence of computations can then be efficiently applied within XLA to new inputs with the same shape and dtype, without having to re-execute the Python code.\n",
        "\n",
        "When we call the compiled function again on matching inputs, no re-compilation is required and nothing is printed because the result is computed in compiled XLA rather than in Python."
      ],
      "metadata": {
        "id": "zMYVvXdxX8F7"
      }
    },
    {
      "cell_type": "markdown",
      "source": [
        "## Limitation of JIT\n",
        "**Important**: because JIT compilation is done without information on the content of the array, control flow statements in the function cannot depend on traced values."
      ],
      "metadata": {
        "id": "lkm_XC9zaphA"
      }
    },
    {
      "cell_type": "code",
      "source": [
        "# Important: because JIT compilation is done without information\n",
        "# on the content of the array, control flow statements in the function cannot depend\n",
        "# on traced values\n",
        "def f(x):\n",
        "  if x > 0:\n",
        "    return x\n",
        "  else:\n",
        "    return 2 * x\n",
        "\n",
        "f_jit = jit(f)\n",
        "f_jit(10)  # Should raise an error. "
      ],
      "metadata": {
        "id": "yL-c9yz6YNwH"
      },
      "execution_count": null,
      "outputs": []
    },
    {
      "cell_type": "markdown",
      "source": [
        "## Pure Functions\n",
        "It needs [pure functions](https://jax.readthedocs.io/en/latest/notebooks/Common_Gotchas_in_JAX.html#pure-functions):\n",
        "\n",
        "- No control flow statements that depend on values\n",
        "- It cannot use or change global state (variables outside its scope, global variables)\n",
        "- It cannot have an I/O stream - so no printing, asking for input, or accessing the time\n",
        "- It cannot have a mutable function as an argument (which a concurrent process could modify)\n",
        "\n",
        "#### Untracked side effects!\n",
        "Silently throw off the results of your calculation you should be sure that you understand how to write pure functions if you plan to utilize JAX. Read more [here](https://jax.readthedocs.io/en/latest/faq.html#jit-changes-the-behavior-of-my-function)."
      ],
      "metadata": {
        "id": "QUm6wTIyY9wU"
      }
    },
    {
      "cell_type": "markdown",
      "source": [
        "## Automatic Differentiation with grad()\n",
        "\n",
        "Very simple to calculate gradients and second/third order gradients etc.\n",
        "\n",
        "The gradients follow more the underlying math rather than using backpropagation in other Deep Learning libraries --> It can be much faster with JAX!\n",
        "\n",
        "grad() works for scalar-valued function, meaning a function which maps scalars/vectors to scalars."
      ],
      "metadata": {
        "id": "Hj6TOVcca8IR"
      }
    },
    {
      "cell_type": "code",
      "source": [
        "from jax import grad\n",
        "\n",
        "def f(x):\n",
        "  return x**3 + 2*x**2 - 3*x + 1\n",
        "\n",
        "dfdx = grad(f)\n",
        "\n",
        "d2fdx = grad(grad(f))\n",
        "#d2fdx = grad(dfdx)\n",
        "\n",
        "print(f\"x = 1.0\")\n",
        "print(f\"f  (x) = {f(1.)}\")\n",
        "print(f\"f' (x) = 3*x^2 + 4x - 3 = {dfdx(1.)}\")\n",
        "print(f\"f''(x) = 6x + 4 = {d2fdx(1.)}\")"
      ],
      "metadata": {
        "id": "74XvEc7-YOI5",
        "outputId": "a28f09c1-48d7-4af5-9247-809dfe972e93",
        "colab": {
          "base_uri": "https://localhost:8080/"
        }
      },
      "execution_count": null,
      "outputs": [
        {
          "output_type": "stream",
          "name": "stdout",
          "text": [
            "x = 1.0\n",
            "f  (x) = 1.0\n",
            "f' (x) = 3*x^2 + 4x - 3 = 4.0\n",
            "f''(x) = 6x + 4 = 10.0\n"
          ]
        }
      ]
    },
    {
      "cell_type": "code",
      "source": [
        "# Another example\n",
        "def rectified_cube(x):\n",
        "  r = 1\n",
        "  \n",
        "  if x < 0.:\n",
        "    for i in range(3):\n",
        "      r *= x\n",
        "    r = -r\n",
        "  else:\n",
        "    for i in range(3):\n",
        "        r *= x\n",
        "  \n",
        "  return r\n",
        "\n",
        "gradient_function = grad(rectified_cube)\n",
        "\n",
        "print(f\"x = 2   f(x) = {rectified_cube(2.)}   f'(x) =  3*x^2 = {gradient_function(2.)}\")\n",
        "print(f\"x = -3  f(x) = {rectified_cube(-3.)}  f'(x) = -3*x^2 = {gradient_function(-3.)}\")"
      ],
      "metadata": {
        "id": "MJC3toxYbAwc",
        "outputId": "98512af4-e3c4-43c8-cf81-feb0b046f3e1",
        "colab": {
          "base_uri": "https://localhost:8080/"
        }
      },
      "execution_count": null,
      "outputs": [
        {
          "output_type": "stream",
          "name": "stdout",
          "text": [
            "x = 2   f(x) = 8.0   f'(x) =  3*x^2 = 12.0\n",
            "x = -3  f(x) = 27.0  f'(x) = -3*x^2 = -27.0\n"
          ]
        }
      ]
    },
    {
      "cell_type": "code",
      "source": [
        "# use argnum\n",
        "def sum_squared_error(x, y):\n",
        "  return jnp.sum((x-y)**2)\n",
        "\n",
        "sum_squared_error_dx = grad(sum_squared_error)\n",
        "\n",
        "x = jnp.asarray([1.0, 2.0, 3.0, 4.0])\n",
        "y = jnp.asarray([1.1, 2.1, 3.1, 4.1])\n",
        "\n",
        "print(sum_squared_error_dx(x, y))\n",
        "\n",
        "sum_squared_error_dy = grad(sum_squared_error, argnums=(1))\n",
        "\n",
        "print(sum_squared_error_dy(x, y))"
      ],
      "metadata": {
        "id": "TbVw30Ltb-jV",
        "outputId": "89fd3619-b4b7-4166-aba1-5c3defc16bc2",
        "colab": {
          "base_uri": "https://localhost:8080/"
        }
      },
      "execution_count": null,
      "outputs": [
        {
          "output_type": "stream",
          "name": "stdout",
          "text": [
            "[-0.20000005 -0.19999981 -0.19999981 -0.19999981]\n",
            "[0.20000005 0.19999981 0.19999981 0.19999981]\n"
          ]
        }
      ]
    },
    {
      "cell_type": "markdown",
      "source": [
        "## Jacobian and Hessian for Vector-Valued Functions\n",
        "For vector-valued functions which map vectors to vectors, the analogue to the gradient is the Jacobian. With the function transformations jacfwd() and jacrev(), corresponding to forward mode differentiation and reverse mode differentiation."
      ],
      "metadata": {
        "id": "qYrlzGnVcvc_"
      }
    },
    {
      "cell_type": "code",
      "source": [
        "from jax import jacfwd\n",
        "\n",
        "def mapping(v):\n",
        "  x = v[0]\n",
        "  y = v[1]\n",
        "  z = v[2]\n",
        "  return jnp.array([x*x, y*z])\n",
        "\n",
        "# 3 inputs, 2 outputs\n",
        "# [d/dx x^2 , d/dy x^2, d/dz x^2]\n",
        "# [d/dx y*z , d/dy y*z, d/dz y*z]\n",
        "\n",
        "# [2*x , 0, 0]\n",
        "# [0 , z, y]\n",
        "\n",
        "f = jacfwd(mapping)\n",
        "v = jnp.array([4., 5., 9.])\n",
        "print(f(v))"
      ],
      "metadata": {
        "id": "9fnQIEcdcu0Q",
        "outputId": "21320d1a-e693-4135-b1a2-86bca33b5cb4",
        "colab": {
          "base_uri": "https://localhost:8080/"
        }
      },
      "execution_count": null,
      "outputs": [
        {
          "output_type": "stream",
          "name": "stdout",
          "text": [
            "[[8. 0. 0.]\n",
            " [0. 9. 5.]]\n"
          ]
        }
      ]
    },
    {
      "cell_type": "code",
      "source": [
        "def hessian(f):\n",
        "  return jacfwd(grad(f))\n",
        "\n",
        "def f(x):\n",
        "  return jnp.dot(x, x)\n",
        "\n",
        "hessian(f)(jnp.array([1., 2., 3.]))"
      ],
      "metadata": {
        "id": "peifeDcicSw6",
        "outputId": "3ce291f2-a6ca-42cc-f93d-93cf9c9299d2",
        "colab": {
          "base_uri": "https://localhost:8080/"
        }
      },
      "execution_count": null,
      "outputs": [
        {
          "output_type": "execute_result",
          "data": {
            "text/plain": [
              "DeviceArray([[2., 0., 0.],\n",
              "             [0., 2., 0.],\n",
              "             [0., 0., 2.]], dtype=float32)"
            ]
          },
          "metadata": {},
          "execution_count": 21
        }
      ]
    },
    {
      "cell_type": "markdown",
      "source": [
        "## Automatic Vectorization with vmap()\n",
        "\n",
        "JAX’s transform: Vectorization via vmap, the vectorizing map. It has the familiar semantics of mapping a function along array axes, but instead of keeping the loop on the outside, it pushes the loop down into a function’s primitive operations for better performance."
      ],
      "metadata": {
        "id": "sdSN7nHZdpoz"
      }
    },
    {
      "cell_type": "code",
      "source": [
        "from jax import vmap\n",
        "\n",
        "x = jnp.arange(5)\n",
        "w = jnp.array([2., 3., 4.])\n",
        "\n",
        "def convolve(x, w):\n",
        "  output = []\n",
        "  for i in range(1, len(x)-1):\n",
        "    output.append(jnp.dot(x[i-1:i+2], w))\n",
        "  return jnp.array(output)\n",
        "\n",
        "print(convolve(x, w))\n",
        "\n",
        "# Suppose we would like to apply this function to a batch of weights w to a batch of vectors x.\n",
        "xs = jnp.stack([x, x])\n",
        "ws = jnp.stack([w, w])\n",
        "\n",
        "# The most naive option would be to simply loop over the batch in Python:\n",
        "def manually_batched_convolve(xs, ws):\n",
        "  output = []\n",
        "  for i in range(xs.shape[0]):\n",
        "    output.append(convolve(xs[i], ws[i]))\n",
        "  return jnp.stack(output)\n",
        "\n",
        "print(manually_batched_convolve(xs, ws))\n",
        "\n",
        "# use vmap\n",
        "auto_batch_convolve = vmap(convolve)\n",
        "\n",
        "print(auto_batch_convolve(xs, ws))"
      ],
      "metadata": {
        "id": "nM9WkrMldFH6",
        "outputId": "7441c3a3-c7ce-4614-b563-3bdd9991ace4",
        "colab": {
          "base_uri": "https://localhost:8080/"
        }
      },
      "execution_count": null,
      "outputs": [
        {
          "output_type": "stream",
          "name": "stdout",
          "text": [
            "[11. 20. 29.]\n",
            "[[11. 20. 29.]\n",
            " [11. 20. 29.]]\n",
            "[[11. 20. 29.]\n",
            " [11. 20. 29.]]\n"
          ]
        }
      ]
    },
    {
      "cell_type": "markdown",
      "source": [
        "## Automatic Parallelization with pmap()\n",
        "Performing distributed training of SPMD programs with a single command\n",
        "\n",
        "Consider the example of vector-matrix multiplication. Let’s say we are performing this computation by sequentially computing the dot product of the vector with each row of the matrix. We would need to push these computations through our hardware one at a time.\n",
        "\n",
        "With JAX, we can easily distribute these computations across 4 TPUs by simply wrapping our operation in pmap(). This allows us to concurrently perform one dot product on each TPU, significantly increasing our computation speed (for large computations)"
      ],
      "metadata": {
        "id": "N6vOISF4ebx3"
      }
    },
    {
      "cell_type": "markdown",
      "source": [
        "## Example Training Loop with JAX\n"
      ],
      "metadata": {
        "id": "W2P0r1WufO_3"
      }
    },
    {
      "cell_type": "code",
      "source": [
        "import numpy as np\n",
        "import matplotlib.pyplot as plt\n",
        "\n",
        "xs = np.random.normal(size=(100,))\n",
        "noise = np.random.normal(scale=0.1, size=(100,))\n",
        "ys = xs * 3 - 1 + noise\n",
        "\n",
        "plt.scatter(xs, ys)"
      ],
      "metadata": {
        "colab": {
          "base_uri": "https://localhost:8080/",
          "height": 282
        },
        "id": "ELQld9gkdxZW",
        "outputId": "b6503635-b89c-4741-e7d7-b23feac77c71"
      },
      "execution_count": null,
      "outputs": [
        {
          "output_type": "execute_result",
          "data": {
            "text/plain": [
              "<matplotlib.collections.PathCollection at 0x7faf4618fdd0>"
            ]
          },
          "metadata": {},
          "execution_count": 23
        },
        {
          "output_type": "display_data",
          "data": {
            "text/plain": [
              "<Figure size 432x288 with 1 Axes>"
            ],
            "image/png": "[encoded data removed]"
          },
          "metadata": {
            "needs_background": "light"
          }
        }
      ]
    },
    {
      "cell_type": "code",
      "source": [
        "def model(theta, x):\n",
        "  \"\"\"Computes wx + b on a batch of input x.\"\"\"\n",
        "  w, b = theta\n",
        "  return w * x + b\n",
        "\n",
        "def loss_fn(theta, x, y):\n",
        "  prediction = model(theta, x)\n",
        "  return jnp.mean((prediction-y)**2)\n",
        "\n",
        "def update(theta, x, y, lr=0.1):\n",
        "  return theta - lr * grad(loss_fn)(theta, x, y)"
      ],
      "metadata": {
        "id": "pirqblCQfyaL"
      },
      "execution_count": null,
      "outputs": []
    },
    {
      "cell_type": "code",
      "source": [
        "theta = jnp.array([1., 1.])\n",
        "\n",
        "for _ in range(1000):\n",
        "  theta = update(theta, xs, ys)\n",
        "\n",
        "plt.scatter(xs, ys)\n",
        "plt.plot(xs, model(theta, xs))\n",
        "\n",
        "w, b = theta\n",
        "print(f\"w: {w:<.2f}, b: {b:<.2f}\")\n",
        "print(f\"f(x) = {w:<.2f} * x {b:<.2f}\")"
      ],
      "metadata": {
        "colab": {
          "base_uri": "https://localhost:8080/",
          "height": 300
        },
        "id": "AnciC0cYf0qS",
        "outputId": "8379aea7-f6b5-49ee-9795-c7cf4555df78"
      },
      "execution_count": null,
      "outputs": [
        {
          "output_type": "stream",
          "name": "stdout",
          "text": [
            "w: 2.99, b: -1.01\n",
            "f(x) = 2.99 * x -1.01\n"
          ]
        },
        {
          "output_type": "display_data",
          "data": {
            "text/plain": [
              "<Figure size 432x288 with 1 Axes>"
            ],
            "image/png": "[encoded data removed]"
          },
          "metadata": {
            "needs_background": "light"
          }
        }
      ]
    },
    {
      "cell_type": "markdown",
      "source": [
        "## What's the catch\n",
        "\n",
        "- Functional Paradigm: Needs pure functions\n",
        "- Untracked side effects\n",
        "- Inability to modify arrays\n",
        "- Explicit [PRNG handling](https://jax.readthedocs.io/en/latest/jax.random.html#prng-keys). Unlike the stateful pseudorandom number generators (PRNGs) that users of NumPy and SciPy may be accustomed to, JAX random functions all require an explicit PRNG state to be passed as a first argument. --> Be careful when you want to reproduce results."
      ],
      "metadata": {
        "id": "X379C2o9e-ct"
      }
    },
    {
      "cell_type": "markdown",
      "source": [
        "## Conclusion\n",
        "\n",
        "JAX is a very promising project and has been steadily growing in popularity, despite the learning curve introduced by its functional paradigm.\n",
        "\n",
        "- Easy to use as drop-in replacement for numpy\n",
        "- Autograd is extremelty useful for scientific computing\n",
        "- Deep Learning projects can benefit from this!\n",
        "- Huge performance improvement possible!!\n",
        "- But be careful and make sure to understand pure functions and how jit works\n",
        "- JAX is still officially considered an experimental framework. "
      ],
      "metadata": {
        "id": "xwheB9Ceh_BO"
      }
    }
  ]
}
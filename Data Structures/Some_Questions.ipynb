{
  "nbformat": 4,
  "nbformat_minor": 0,
  "metadata": {
    "colab": {
      "provenance": []
    },
    "kernelspec": {
      "name": "python3",
      "display_name": "Python 3"
    },
    "language_info": {
      "name": "python"
    }
  },
  "cells": [
    {
      "cell_type": "markdown",
      "source": [
        "# Write a function to calculate mean squared error between 2 arrays"
      ],
      "metadata": {
        "id": "murlQ2v0LIB3"
      }
    },
    {
      "cell_type": "code",
      "execution_count": null,
      "metadata": {
        "colab": {
          "base_uri": "https://localhost:8080/"
        },
        "id": "3jLUTHDzLFXI",
        "outputId": "9cb825dc-66a4-4bbf-cb8c-61cf8c3570e5"
      },
      "outputs": [
        {
          "output_type": "stream",
          "name": "stdout",
          "text": [
            "0.034000000000000016\n"
          ]
        }
      ],
      "source": [
        "import numpy as np\n",
        "\n",
        "def mean_squared_error(y_true, y_pred):\n",
        "    \"\"\"Calculates the mean squared error (MSE) between two arrays.\"\"\"\n",
        "    mse = np.mean((y_true - y_pred) ** 2)\n",
        "    return mse\n",
        "# Example usage\n",
        "y_true = np.array([1, 2, 3, 4, 5])\n",
        "y_pred = np.array([1.2, 1.8, 3.2, 3.9, 5.2])\n",
        "mse = mean_squared_error(y_true, y_pred)\n",
        "print(mse)  # Output: 0.25\n"
      ]
    },
    {
      "cell_type": "markdown",
      "source": [
        "Write a function to calculate the sigmoid function for an array of values. The sigmoid function is defined as 1 / (1 + exp(-x)), where x is an array of values. The function should return an array of values that have been transformed by the sigmoid function. In Python\n",
        "\n"
      ],
      "metadata": {
        "id": "GeK8pBqFNfbF"
      }
    },
    {
      "cell_type": "code",
      "source": [
        "import numpy as np\n",
        "\n",
        "def sigmoid(x):\n",
        "    \"\"\"Calculates the sigmoid function for an array of values.\"\"\"\n",
        "    return 1 / (1 + np.exp(-x))\n",
        "x = np.array([1, 2, 3, 4, 5])\n",
        "print(sigmoid(x))"
      ],
      "metadata": {
        "colab": {
          "base_uri": "https://localhost:8080/"
        },
        "id": "cnGyQn5AMNGH",
        "outputId": "f2708132-b7d4-4a29-a2a1-9cc24c7a2def"
      },
      "execution_count": null,
      "outputs": [
        {
          "output_type": "stream",
          "name": "stdout",
          "text": [
            "[0.73105858 0.88079708 0.95257413 0.98201379 0.99330715]\n"
          ]
        }
      ]
    },
    {
      "cell_type": "markdown",
      "source": [
        "Write a function to implement the forward pass of a fully connected neural network with a single hidden layer. The function should take an input array, a weight matrix for the hidden layer, a bias vector for the hidden layer, a weight matrix for the output layer, and a bias vector for the output layer. The function should return the output of the neural network for the given input.\n"
      ],
      "metadata": {
        "id": "jRmbYyB9QFdg"
      }
    },
    {
      "cell_type": "code",
      "source": [
        "def fully_connected_nn_forward_pass(input_array, hidden_weight, hidden_bias, output_weight, output_bias):\n",
        "  \"\"\"Implements forward pass of a fully connected network with one layer\"\"\"\n",
        "\n",
        "  # Calculate the activations of hidden layer\n",
        "  hidden_activations = np.dot(input_array, hidden_weight) + hidden_bias\n",
        "  hidden_output = np.maximum(0, hidden_activations) # ReLu activaiton function\n",
        "\n",
        "  # Calculate the activations of output layer\n",
        "  output_activations = np.dot(hidden_output, output_weight) + output_bias\n",
        "  output = sigmoid(output_activations)\n",
        "\n",
        "  return output\n",
        "\n",
        "# Example usage\n",
        "input_array = np.array([[1, 2, 3]])\n",
        "hidden_weights = np.array([[0.1, 0.2], [0.3, 0.4], [0.5, 0.6]])\n",
        "hidden_bias = np.array([0.1, 0.2])\n",
        "output_weights = np.array([[0.7], [0.8]])\n",
        "output_bias = np.array([0.3])\n",
        "\n",
        "output = fully_connected_nn_forward_pass(input_array, hidden_weights, hidden_bias, output_weights, output_bias)\n",
        "print(output)"
      ],
      "metadata": {
        "colab": {
          "base_uri": "https://localhost:8080/"
        },
        "id": "bPytCNR0OFJl",
        "outputId": "c9fc5f5d-483c-4319-d309-27b0640ae1e8"
      },
      "execution_count": null,
      "outputs": [
        {
          "output_type": "stream",
          "name": "stdout",
          "text": [
            "[[0.98674452]]\n"
          ]
        }
      ]
    },
    {
      "cell_type": "markdown",
      "source": [
        "Write a function to implement the backpropagation algorithm for a fully connected neural network with a single hidden layer. The function should take an input array, a weight matrix for the hidden layer, a bias vector for the hidden layer, a weight matrix for the output layer, a bias vector for the output layer, a target output array, and a learning rate. The function should update the weights and biases of the network using the backpropagation algorithm.\n"
      ],
      "metadata": {
        "id": "E_QrWNOkV9Tf"
      }
    },
    {
      "cell_type": "code",
      "source": [
        "\"\"\"Below follows the procedure of backpropogation for a full connected network with one hidden layer\"\"\"\n",
        "import numpy as np\n",
        "\n",
        "def sigmoid(x):\n",
        "  # Calculates sigmoid function\n",
        "  return 1/ (1 + np.exp(-x))\n",
        "\n",
        "def sigmoid_derivative(x):\n",
        "  # Calculates the derivate of sigmoid to update the weights later\n",
        "  return sigmoid(x) * (1 - sigmoid(x))\n",
        "\n",
        "def forward_pass(X, W1, b1, W2, b2):\n",
        "  \"\"\"Implement forward pass\"\"\"\n",
        "  # Compute the hidden layer\n",
        "  h = sigmoid(np.dot(X * W1) + b1)\n",
        "\n",
        "  # Find the output layer\n",
        "  y = np.dot(h, W2) + b2\n",
        "  return y, h\n",
        "\n",
        "def back_prop(X, W1, b1, W2, b2, y_target, lr):\n",
        "  # Initiate first forward pass\n",
        "  y, h = forward_pass(X, W1, b1, W2, b2)\n",
        "\n",
        "  # Compute the error\n",
        "  error = y - y_target\n",
        "\n",
        "  # Compute the gradient of output layer\n",
        "  grad_W2 = np.dot(h.T, error)\n",
        "  grad_b2 = np.sum(error, axis=0, keepdims=True)\n",
        "\n",
        "  # Compute the gradient of hidden layer\n",
        "  grad_h = np.dot(error, W2.T)* sigmoid_derivative(h)\n",
        "  grad_W1 = np.dot(X.T, grad_h)\n",
        "  grad_b1 = np.sum(grad_h, axis=0, keepdims=True)\n",
        "\n",
        "  # Update weight and biases\n",
        "  W2 -= lr* grad_W2\n",
        "  b2 -= lr*grad_b2\n",
        "\n",
        "  w1 -= lr*grad_W1\n",
        "  b1 -= lr*grad_b1\n",
        "\n",
        "  return W1, b1, W2, b2\n",
        "\"\"\" Backprop test\"\"\"\n",
        "\n",
        "# Generate random X input and y target values \n",
        "X = np.random.randn(100, 10)\n",
        "y_target = np.random.randn(100, 5)\n",
        "\n",
        "# Randomize weight and biases\n",
        "W1 = np.random.randn(10, 20)\n",
        "b1 = np.random.randn(1, 20)\n",
        "\n",
        "W2 = np.random.randn(20, 5)\n",
        "b2 = np.random.randn(1, 5)\n",
        "\n",
        "#  Train\n",
        "for i in range(100):\n",
        "  W1,b1, W2, b2 = back_prop(X, W1, b1, W2, b2, y_target, 0.1)\n",
        "\n",
        "# Test the network on some new input data\n",
        "y_test, _ = forward_pass(np.random.randn(10, 10), W1, b1, W2, b2)\n",
        "print(y_test)"
      ],
      "metadata": {
        "id": "Gqatg77PRao8"
      },
      "execution_count": null,
      "outputs": []
    },
    {
      "cell_type": "markdown",
      "source": [
        "Write a function to implement the convolution operation between two arrays. The function should take two arrays as input, along with the size of the convolution kernel and the stride length. The function should return the output of the convolution operation. \n",
        "and also explain"
      ],
      "metadata": {
        "id": "5_4jL_Bgtsts"
      }
    },
    {
      "cell_type": "code",
      "source": [
        "import numpy as np\n",
        "\n",
        "def convolution2d(image, kernel, stride):\n",
        "  \"\"\"Calculates the convolution of an image\"\"\"\n",
        "  # Get dimensions of image and kernel\n",
        "  image_height, image_width = image.shape\n",
        "  kernel_height, kernel_width = kernel.shape\n",
        "\n",
        "  # Calculate the output dimensions\n",
        "  output_height = int((image_height - kernel_height) / stride) + 1\n",
        "  output_width = int((image_width - kernel_width)/stride) + 1\n",
        "\n",
        "  # Initialize the output array\n",
        "  output = np.zeros((output_height, output_width))\n",
        "\n",
        "  # Perform convolution\n",
        "  for i in range(0, output_height):\n",
        "    for j in range(0, output_width):\n",
        "      output[i, j] = np.sum(image[i*stride: i*stride + kernel_height, j*stride: j*stride + kernel_width] * kernel)\n",
        "  \"\"\"This line performs the convolution operation. \n",
        "  It extracts a sub-image from the input image and multiplies it element-wise with the convolution kernel. \n",
        "  It then sums up the resulting array and stores the result in the corresponding location in the output array.\"\"\"\n",
        "  return output\n",
        "\n",
        "image = np.array([[1, 2, 3], [4, 5, 6], [7, 8, 9]])\n",
        "kernel = np.array([[1, 0], [0, 1]])\n",
        "stride = 1\n",
        "\n",
        "output = convolution2d(image, kernel, stride)\n",
        "\n",
        "print(output)"
      ],
      "metadata": {
        "colab": {
          "base_uri": "https://localhost:8080/"
        },
        "id": "MDvvrgUha3mw",
        "outputId": "68dfedb9-55dc-4167-8eac-107308ef2a90"
      },
      "execution_count": null,
      "outputs": [
        {
          "output_type": "stream",
          "name": "stdout",
          "text": [
            "[[ 6.  8.]\n",
            " [12. 14.]]\n"
          ]
        }
      ]
    },
    {
      "cell_type": "markdown",
      "source": [
        "Frequency list and return array values with hashmaps"
      ],
      "metadata": {
        "id": "A_Gx14aSxz-K"
      }
    },
    {
      "cell_type": "code",
      "source": [
        "def find_freq(lst):\n",
        "  counts = {}\n",
        "  for item in lst:\n",
        "    if item not in counts:\n",
        "      counts[item] = 1\n",
        "    else:\n",
        "      counts[item] += 1\n",
        "  return [key for key, value in counts.items() if value==2]\n",
        "\n",
        "print(find_freq([1, 22, 22, 3, 4]))"
      ],
      "metadata": {
        "colab": {
          "base_uri": "https://localhost:8080/"
        },
        "id": "GZedDGTgbWtH",
        "outputId": "32220299-c18b-42e1-dd1b-cc0ee4e6d065"
      },
      "execution_count": null,
      "outputs": [
        {
          "output_type": "stream",
          "name": "stdout",
          "text": [
            "[22]\n"
          ]
        }
      ]
    },
    {
      "cell_type": "markdown",
      "source": [
        "Simple CNN with pytorch"
      ],
      "metadata": {
        "id": "r556FUil0SnB"
      }
    },
    {
      "cell_type": "code",
      "source": [
        "import torch\n",
        "import torch.nn as nn\n",
        "\n",
        "# Define the CNN architecture\n",
        "class SimpleCNN(nn.Module):\n",
        "    def __init__(self):\n",
        "        super(SimpleCNN, self).__init__()\n",
        "        self.conv1 = nn.Conv2d(3, 32, kernel_size=3, stride=1, padding=1)\n",
        "        self.relu1 = nn.ReLU()\n",
        "        self.pool1 = nn.MaxPool2d(kernel_size=2, stride=2)\n",
        "        self.fc = nn.Linear(64 * 8 * 8, 10)\n",
        "\n",
        "    def forward(self, x):\n",
        "        x = self.conv1(x)\n",
        "        x = self.relu1(x)\n",
        "        x = self.pool1(x)\n",
        "        x = x.view(-1, 64 * 8 * 8)\n",
        "        x = self.fc(x)\n",
        "        return x\n",
        "\n",
        "# Initialize the CNN and define the loss function and optimizer\n",
        "model = SimpleCNN()\n",
        "criterion = nn.CrossEntropyLoss()\n",
        "optimizer = torch.optim.Adam(model.parameters(), lr=0.001)\n",
        "\n",
        "# Train the CNN on a dataset\n",
        "for epoch in range(10):\n",
        "    for i, (images, labels) in enumerate(train_loader):\n",
        "        optimizer.zero_grad()\n",
        "        outputs = model(images)\n",
        "        loss = criterion(outputs, labels)\n",
        "        loss.backward()\n",
        "        optimizer.step()\n"
      ],
      "metadata": {
        "id": "8B5Y0NoggNfI"
      },
      "execution_count": null,
      "outputs": []
    },
    {
      "cell_type": "markdown",
      "source": [
        "Detect lanes in an image"
      ],
      "metadata": {
        "id": "FY5IuvYF2ARF"
      }
    },
    {
      "cell_type": "code",
      "source": [
        "import cv2\n",
        "import numpy as np\n",
        "import matplotlib.pyplot as plt\n",
        "\n",
        "def detect_lanes(img):\n",
        "  # Convert to grayscale\n",
        "  gray = cv2.cvtColor(image, cv2.COLOR_BGR2GRAY)\n",
        "  # Apply Gauss blur\n",
        "  blur = cv2.GaussianBlur(gray, (5,5), 0)\n",
        "  # Apply Canny Edge Detection\n",
        "  edges = cv2.Canny(blur, 50, 150)\n",
        "\n",
        "  # Create ROI mask\n",
        "  mask  = np.zeros_like(edges)\n",
        "  height, width = edges.shape\n",
        "  polygons = np.array([[(0, height), (width, height), (width, height*0.6), (0, height*0.6)]], np.int32)\n",
        "  cv2.fillPoly(mask, polygons, 255)\n",
        "\n",
        "  masked_edges = cv2.bitwise_and(edges, mask)\n",
        "\n",
        "  # Hough transform \n",
        "  lines = cv2.HoughLinesP(masked_edges, rho=2, theta=np.pi/180, threshold=100, minLineLength=40, maxLineGap=100)\n",
        "\n",
        "  # Draw detected lines on image\n",
        "  line_image = np.zeros((height, width, 3), dtype=np.uint8)\n",
        "  for line in lines:\n",
        "    x1, y1, x2, y2 = line[0]\n",
        "    cv2.line(line_image, (x1, y1), (x2, y2), (0, 255, 0), 5)\n",
        "\n",
        "  # Combine lines with original image\n",
        "  result = cv2.addWeighted(image, 0.8, line_image, 1, 0)\n",
        "  return result\n",
        "\n",
        "  # Display\n",
        "result = detect_lanes(image)\n",
        "\n",
        "plt.imshow(result)"
      ],
      "metadata": {
        "id": "6GPCGt_y2BQ4"
      },
      "execution_count": null,
      "outputs": []
    },
    {
      "cell_type": "code",
      "source": [
        "def connect_lanes(lanes):\n",
        "    # Check if lanes are parallel to x-axis\n",
        "    if lanes[0][0][1] == lanes[0][1][1] and lanes[1][0][1] == lanes[1][1][1]:\n",
        "        print(lanes[0][0][1])\n",
        "        print(lanes[0][1][1])\n",
        "        print(lanes[1][0][1])\n",
        "        print(lanes[1][1][1])\n",
        "\n",
        "        # Check if lanes share the same y-coordinate\n",
        "        if lanes[0][0][1] == lanes[1][0][1]:\n",
        "            # Connect lanes\n",
        "            connected_lane = [(lanes[0][0][0], lanes[0][0][1]), (lanes[1][1][0], lanes[1][1][1])]\n",
        "            return [connected_lane]\n",
        "\n",
        "    # Return original lanes if they cannot be connected\n",
        "    return lanes\n",
        "\n",
        "\"\"\"\n",
        "\n",
        "[[(0.0, 0.0), (10.1, 0.0)],\n",
        " [(10.0, 0.0), (20.0, 0.0)]]\n",
        " -> [[(0.0, 0.0), (20.0, 0.0)]]\n",
        "\"\"\"\n",
        "\n",
        "lanes = [[(0.0, 0.0), (10.1, 0.0)], [(10.0, 0.0), (20.0, 0.0)]]\n",
        "connected_lanes = connect_lanes(lanes)\n",
        "print(connected_lanes)  # Output: [[(0.0, 0.0), (20.0, 0.0)]]"
      ],
      "metadata": {
        "colab": {
          "base_uri": "https://localhost:8080/"
        },
        "id": "OUEsk6VUBabJ",
        "outputId": "9e9c7e1f-04b8-4295-9dfe-886d6133b0bc"
      },
      "execution_count": null,
      "outputs": [
        {
          "output_type": "stream",
          "name": "stdout",
          "text": [
            "0.0\n",
            "0.0\n",
            "0.0\n",
            "0.0\n",
            "[[(0.0, 0.0), (20.0, 0.0)]]\n"
          ]
        }
      ]
    },
    {
      "cell_type": "code",
      "source": [
        "def connect_lanes(lanes):\n",
        "    \"\"\"\n",
        "    Takes a list of lane coordinates and returns a list of connected lane coordinates.\n",
        "    \n",
        "    Args:\n",
        "        lanes (list): A list of lane coordinates, where each lane is represented as a list of (x, y) tuples.\n",
        "    \n",
        "    Returns:\n",
        "        list: A list of connected lane coordinates, where each lane is represented as a list of (x, y) tuples.\n",
        "    \"\"\"\n",
        "    # Create a dictionary to store the starting and ending coordinates of each lane\n",
        "    endpoints = {}\n",
        "    \n",
        "    # Iterate over each lane and add its endpoints to the dictionary\n",
        "    for lane in lanes:\n",
        "        endpoints[lane[0]] = lane[-1]\n",
        "    \n",
        "    # Create a new list to store the connected lane segments\n",
        "    connected_lanes = []\n",
        "    \n",
        "    # Iterate over each lane and try to connect it to the next lane\n",
        "    for i in range(len(lanes)):\n",
        "        # If this is the last lane, add it to the list of connected lanes and break out of the loop\n",
        "        if i == len(lanes) - 1:\n",
        "            connected_lanes.append(lanes[i])\n",
        "            break\n",
        "        \n",
        "        # Get the endpoint of the current lane\n",
        "        endpoint = endpoints[lanes[i][-1]]\n",
        "        \n",
        "        # Check if the endpoint matches the start of the next lane\n",
        "        if endpoint == lanes[i+1][0]:\n",
        "            # If it does, append the next lane to the current lane\n",
        "            lanes[i].extend(lanes[i+1])\n",
        "        else:\n",
        "            # If it doesn't, add the current lane to the list of connected lanes\n",
        "            connected_lanes.append(lanes[i])\n",
        "    \n",
        "    return connected_lanes\n",
        "\n",
        "# ex1\n",
        "lanes = [    [(0.0, 0.0), (10.0, 0.0)],\n",
        "    [(10.0, 0.0), (20.0, 0.0)],\n",
        "    [(20.0, 0.0), (25.0, 0.0)],\n",
        "    [(25.0, 0.0), (35.0, 0.0)],\n",
        "    [(35.0, 0.0), (45.0, 0.0)]\n",
        "]\n",
        "connected_lanes = connect_lanes(lanes)\n",
        "print(connected_lanes)  # Output: [[(0.0, 0.0), (45.0, 0.0)]]\n",
        "\n",
        "# ex2\n",
        "lanes = [    [(0.0, 0.0), (10.0, 0.0)],\n",
        "    [(10.0, 0.0), (20.0, 0.0)],\n",
        "    [(20.0, 0.0), (25.0, 0.0)],\n",
        "    [(20.0, 0.0), (30.0, 10.0)],\n",
        "    [(25.0, 0.0), (30.0, 10.0)],\n",
        "    [(30.0, 10.0), (35.0, 10.0)],\n",
        "    [(35.0, 10.0), (45.0, 10.0)]\n",
        "]\n",
        "connected_lanes = connect_lanes(lanes)\n",
        "print(connected_lanes)  # Output: [[(0.0, 0.0), (20.0, 0.0), (30.0, 10.0), (35.0, 10.0), (45.0, 10.0)]]\n",
        "lanes = [[[]]]"
      ],
      "metadata": {
        "id": "XiTgxBJzBnpQ"
      },
      "execution_count": null,
      "outputs": []
    },
    {
      "cell_type": "markdown",
      "source": [
        "## Easier"
      ],
      "metadata": {
        "id": "KiPqKWogGWJQ"
      }
    },
    {
      "cell_type": "markdown",
      "source": [
        "Given a list of points in 2D space, write a Python function that determines the convex hull of the points (i.e., the smallest convex polygon that contains all the points)."
      ],
      "metadata": {
        "id": "KofNtZa6GYSG"
      }
    },
    {
      "cell_type": "code",
      "source": [],
      "metadata": {
        "id": "r4UM5GNiC7UN"
      },
      "execution_count": null,
      "outputs": []
    },
    {
      "cell_type": "code",
      "source": [],
      "metadata": {
        "id": "Xc9Y5ZNPDYiV"
      },
      "execution_count": null,
      "outputs": []
    },
    {
      "cell_type": "code",
      "source": [
        "#!/usr/bin/python\n",
        "\n",
        "def displayPathtoPrincess(n,grid):\n",
        "#print all the moves here\n",
        "\n",
        "    m = int(input())\n",
        "    grid = [] \n",
        "    for i in range(0, m): \n",
        "        grid.append(input().strip())\n",
        "    \n",
        "    bot_pos = None\n",
        "    princess_pos = None\n",
        "    \n",
        "    for i in range(m):\n",
        "        for j in range(m):\n",
        "            if grid[i][j] == 'b':\n",
        "                bot_pos = (i, j)\n",
        "            elif grid[i][j] == 'p':\n",
        "                princess_pos = (i, j)\n",
        "    row_dif = bot_pos[0] - princess_pos[0]\n",
        "    col_dif = bot_pos[1] - princess_pos[1]\n",
        "    \n",
        "    moves = []\n",
        "    \n",
        "    if row_dif < 0:\n",
        "        moves.append(\"DOWN\\n\" * row_dif)\n",
        "    else:\n",
        "        moves.append(\"UP\\n\" * col_dif)\n",
        "    if col_dif < 0:\n",
        "        moves.append(\"RIGHT\\n\" * col_dif)\n",
        "    else:\n",
        "        moves.append(\"LEFT\\n\" * col_dif)\n",
        "    return \"\".join(moves)"
      ],
      "metadata": {
        "id": "saQumYItFWTC"
      },
      "execution_count": null,
      "outputs": []
    },
    {
      "cell_type": "code",
      "source": [],
      "metadata": {
        "id": "l7i0T0fdFYG_"
      },
      "execution_count": null,
      "outputs": []
    },
    {
      "cell_type": "code",
      "source": [],
      "metadata": {
        "id": "rWOEUSc6l6nH"
      },
      "execution_count": null,
      "outputs": []
    }
  ]
}
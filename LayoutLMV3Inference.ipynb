{
  "nbformat": 4,
  "nbformat_minor": 0,
  "metadata": {
    "colab": {
      "provenance": [],
      "collapsed_sections": [],
      "include_colab_link": true
    },
    "kernelspec": {
      "name": "python3",
      "display_name": "Python 3"
    },
    "language_info": {
      "name": "python"
    },
    "accelerator": "GPU",
    "gpuClass": "standard",
    "widgets": {
      "application/vnd.jupyter.widget-state+json": {
        "06a65f9df1bf448cafdb297a16a5c2d6": {
          "model_module": "@jupyter-widgets/controls",
          "model_name": "HBoxModel",
          "model_module_version": "1.5.0",
          "state": {
            "_dom_classes": [],
            "_model_module": "@jupyter-widgets/controls",
            "_model_module_version": "1.5.0",
            "_model_name": "HBoxModel",
            "_view_count": null,
            "_view_module": "@jupyter-widgets/controls",
            "_view_module_version": "1.5.0",
            "_view_name": "HBoxView",
            "box_style": "",
            "children": [
              "IPY_MODEL_6c56fbd5c89d40beb75fe4953545a9b3",
              "IPY_MODEL_993a42a24e4a45feaad38ac4d480730c",
              "IPY_MODEL_6acd9fad4f6549b8b97ac0d3299d6443"
            ],
            "layout": "IPY_MODEL_9c6c295255bb4678bfc38500ad352acc"
          }
        },
        "6c56fbd5c89d40beb75fe4953545a9b3": {
          "model_module": "@jupyter-widgets/controls",
          "model_name": "HTMLModel",
          "model_module_version": "1.5.0",
          "state": {
            "_dom_classes": [],
            "_model_module": "@jupyter-widgets/controls",
            "_model_module_version": "1.5.0",
            "_model_name": "HTMLModel",
            "_view_count": null,
            "_view_module": "@jupyter-widgets/controls",
            "_view_module_version": "1.5.0",
            "_view_name": "HTMLView",
            "description": "",
            "description_tooltip": null,
            "layout": "IPY_MODEL_4095b32b0d524903ac9b7c1626dcd2cf",
            "placeholder": "​",
            "style": "IPY_MODEL_98fe0e48e34942a8bc4787826b36d636",
            "value": ""
          }
        },
        "993a42a24e4a45feaad38ac4d480730c": {
          "model_module": "@jupyter-widgets/controls",
          "model_name": "FloatProgressModel",
          "model_module_version": "1.5.0",
          "state": {
            "_dom_classes": [],
            "_model_module": "@jupyter-widgets/controls",
            "_model_module_version": "1.5.0",
            "_model_name": "FloatProgressModel",
            "_view_count": null,
            "_view_module": "@jupyter-widgets/controls",
            "_view_module_version": "1.5.0",
            "_view_name": "ProgressView",
            "bar_style": "success",
            "description": "",
            "description_tooltip": null,
            "layout": "IPY_MODEL_29bc4ef91c71498ab8851e2fc40d9a01",
            "max": 1,
            "min": 0,
            "orientation": "horizontal",
            "style": "IPY_MODEL_224220d596b4438895946f341876cd45",
            "value": 0
          }
        },
        "6acd9fad4f6549b8b97ac0d3299d6443": {
          "model_module": "@jupyter-widgets/controls",
          "model_name": "HTMLModel",
          "model_module_version": "1.5.0",
          "state": {
            "_dom_classes": [],
            "_model_module": "@jupyter-widgets/controls",
            "_model_module_version": "1.5.0",
            "_model_name": "HTMLModel",
            "_view_count": null,
            "_view_module": "@jupyter-widgets/controls",
            "_view_module_version": "1.5.0",
            "_view_name": "HTMLView",
            "description": "",
            "description_tooltip": null,
            "layout": "IPY_MODEL_4f93fe2f5ee542059868e1598d059b93",
            "placeholder": "​",
            "style": "IPY_MODEL_afb50512718a46ec9512c6526031c59a",
            "value": " 0/0 [00:00&lt;?, ?it/s]"
          }
        },
        "9c6c295255bb4678bfc38500ad352acc": {
          "model_module": "@jupyter-widgets/base",
          "model_name": "LayoutModel",
          "model_module_version": "1.2.0",
          "state": {
            "_model_module": "@jupyter-widgets/base",
            "_model_module_version": "1.2.0",
            "_model_name": "LayoutModel",
            "_view_count": null,
            "_view_module": "@jupyter-widgets/base",
            "_view_module_version": "1.2.0",
            "_view_name": "LayoutView",
            "align_content": null,
            "align_items": null,
            "align_self": null,
            "border": null,
            "bottom": null,
            "display": null,
            "flex": null,
            "flex_flow": null,
            "grid_area": null,
            "grid_auto_columns": null,
            "grid_auto_flow": null,
            "grid_auto_rows": null,
            "grid_column": null,
            "grid_gap": null,
            "grid_row": null,
            "grid_template_areas": null,
            "grid_template_columns": null,
            "grid_template_rows": null,
            "height": null,
            "justify_content": null,
            "justify_items": null,
            "left": null,
            "margin": null,
            "max_height": null,
            "max_width": null,
            "min_height": null,
            "min_width": null,
            "object_fit": null,
            "object_position": null,
            "order": null,
            "overflow": null,
            "overflow_x": null,
            "overflow_y": null,
            "padding": null,
            "right": null,
            "top": null,
            "visibility": null,
            "width": null
          }
        },
        "4095b32b0d524903ac9b7c1626dcd2cf": {
          "model_module": "@jupyter-widgets/base",
          "model_name": "LayoutModel",
          "model_module_version": "1.2.0",
          "state": {
            "_model_module": "@jupyter-widgets/base",
            "_model_module_version": "1.2.0",
            "_model_name": "LayoutModel",
            "_view_count": null,
            "_view_module": "@jupyter-widgets/base",
            "_view_module_version": "1.2.0",
            "_view_name": "LayoutView",
            "align_content": null,
            "align_items": null,
            "align_self": null,
            "border": null,
            "bottom": null,
            "display": null,
            "flex": null,
            "flex_flow": null,
            "grid_area": null,
            "grid_auto_columns": null,
            "grid_auto_flow": null,
            "grid_auto_rows": null,
            "grid_column": null,
            "grid_gap": null,
            "grid_row": null,
            "grid_template_areas": null,
            "grid_template_columns": null,
            "grid_template_rows": null,
            "height": null,
            "justify_content": null,
            "justify_items": null,
            "left": null,
            "margin": null,
            "max_height": null,
            "max_width": null,
            "min_height": null,
            "min_width": null,
            "object_fit": null,
            "object_position": null,
            "order": null,
            "overflow": null,
            "overflow_x": null,
            "overflow_y": null,
            "padding": null,
            "right": null,
            "top": null,
            "visibility": null,
            "width": null
          }
        },
        "98fe0e48e34942a8bc4787826b36d636": {
          "model_module": "@jupyter-widgets/controls",
          "model_name": "DescriptionStyleModel",
          "model_module_version": "1.5.0",
          "state": {
            "_model_module": "@jupyter-widgets/controls",
            "_model_module_version": "1.5.0",
            "_model_name": "DescriptionStyleModel",
            "_view_count": null,
            "_view_module": "@jupyter-widgets/base",
            "_view_module_version": "1.2.0",
            "_view_name": "StyleView",
            "description_width": ""
          }
        },
        "29bc4ef91c71498ab8851e2fc40d9a01": {
          "model_module": "@jupyter-widgets/base",
          "model_name": "LayoutModel",
          "model_module_version": "1.2.0",
          "state": {
            "_model_module": "@jupyter-widgets/base",
            "_model_module_version": "1.2.0",
            "_model_name": "LayoutModel",
            "_view_count": null,
            "_view_module": "@jupyter-widgets/base",
            "_view_module_version": "1.2.0",
            "_view_name": "LayoutView",
            "align_content": null,
            "align_items": null,
            "align_self": null,
            "border": null,
            "bottom": null,
            "display": null,
            "flex": null,
            "flex_flow": null,
            "grid_area": null,
            "grid_auto_columns": null,
            "grid_auto_flow": null,
            "grid_auto_rows": null,
            "grid_column": null,
            "grid_gap": null,
            "grid_row": null,
            "grid_template_areas": null,
            "grid_template_columns": null,
            "grid_template_rows": null,
            "height": null,
            "justify_content": null,
            "justify_items": null,
            "left": null,
            "margin": null,
            "max_height": null,
            "max_width": null,
            "min_height": null,
            "min_width": null,
            "object_fit": null,
            "object_position": null,
            "order": null,
            "overflow": null,
            "overflow_x": null,
            "overflow_y": null,
            "padding": null,
            "right": null,
            "top": null,
            "visibility": null,
            "width": "20px"
          }
        },
        "224220d596b4438895946f341876cd45": {
          "model_module": "@jupyter-widgets/controls",
          "model_name": "ProgressStyleModel",
          "model_module_version": "1.5.0",
          "state": {
            "_model_module": "@jupyter-widgets/controls",
            "_model_module_version": "1.5.0",
            "_model_name": "ProgressStyleModel",
            "_view_count": null,
            "_view_module": "@jupyter-widgets/base",
            "_view_module_version": "1.2.0",
            "_view_name": "StyleView",
            "bar_color": null,
            "description_width": ""
          }
        },
        "4f93fe2f5ee542059868e1598d059b93": {
          "model_module": "@jupyter-widgets/base",
          "model_name": "LayoutModel",
          "model_module_version": "1.2.0",
          "state": {
            "_model_module": "@jupyter-widgets/base",
            "_model_module_version": "1.2.0",
            "_model_name": "LayoutModel",
            "_view_count": null,
            "_view_module": "@jupyter-widgets/base",
            "_view_module_version": "1.2.0",
            "_view_name": "LayoutView",
            "align_content": null,
            "align_items": null,
            "align_self": null,
            "border": null,
            "bottom": null,
            "display": null,
            "flex": null,
            "flex_flow": null,
            "grid_area": null,
            "grid_auto_columns": null,
            "grid_auto_flow": null,
            "grid_auto_rows": null,
            "grid_column": null,
            "grid_gap": null,
            "grid_row": null,
            "grid_template_areas": null,
            "grid_template_columns": null,
            "grid_template_rows": null,
            "height": null,
            "justify_content": null,
            "justify_items": null,
            "left": null,
            "margin": null,
            "max_height": null,
            "max_width": null,
            "min_height": null,
            "min_width": null,
            "object_fit": null,
            "object_position": null,
            "order": null,
            "overflow": null,
            "overflow_x": null,
            "overflow_y": null,
            "padding": null,
            "right": null,
            "top": null,
            "visibility": null,
            "width": null
          }
        },
        "afb50512718a46ec9512c6526031c59a": {
          "model_module": "@jupyter-widgets/controls",
          "model_name": "DescriptionStyleModel",
          "model_module_version": "1.5.0",
          "state": {
            "_model_module": "@jupyter-widgets/controls",
            "_model_module_version": "1.5.0",
            "_model_name": "DescriptionStyleModel",
            "_view_count": null,
            "_view_module": "@jupyter-widgets/base",
            "_view_module_version": "1.2.0",
            "_view_name": "StyleView",
            "description_width": ""
          }
        }
      }
    }
  },
  "cells": [
    {
      "cell_type": "markdown",
      "metadata": {
        "id": "view-in-github",
        "colab_type": "text"
      },
      "source": [
        "<a href=\"https://colab.research.google.com/github/elvinagam/30-Seconds-Code-from-AI-papers/blob/main/LayoutLMV3Inference.ipynb\" target=\"_parent\"><img src=\"https://colab.research.google.com/assets/colab-badge.svg\" alt=\"Open In Colab\"/></a>"
      ]
    },
    {
      "cell_type": "code",
      "source": [
        "#drive mount\n",
        "from google.colab import drive\n",
        "drive.mount('/content/drive')"
      ],
      "metadata": {
        "colab": {
          "base_uri": "https://localhost:8080/"
        },
        "id": "SjGozaM8VK06",
        "outputId": "a0e63286-f128-4be2-8244-fe5d168b5d61"
      },
      "execution_count": null,
      "outputs": [
        {
          "output_type": "stream",
          "name": "stdout",
          "text": [
            "Mounted at /content/drive\n"
          ]
        }
      ]
    },
    {
      "cell_type": "code",
      "source": [
        "## install Hugging face Transformers library to load Layoutlmv3 Preprocessor\n",
        "!pip install -q git+https://github.com/huggingface/transformers.git\n",
        "## install tesseract OCR Engine\n",
        "! sudo apt install tesseract-ocr\n",
        "! sudo apt install libtesseract-dev\n",
        "## install pytesseract , please click restart runtime button in the cell output and move forward in the notebook\n",
        "! pip install pytesseract"
      ],
      "metadata": {
        "id": "N1_XdYaYVYEx"
      },
      "execution_count": null,
      "outputs": []
    },
    {
      "cell_type": "code",
      "source": [
        "# ! rm -r layoutlmv3FineTuning\n",
        "! git clone https://github.com/UBIAI/layoutlmv3FineTuning.git"
      ],
      "metadata": {
        "colab": {
          "base_uri": "https://localhost:8080/"
        },
        "id": "R9g0SqycVa7T",
        "outputId": "2cdecf87-21ae-4cd8-a169-709b03e6f176"
      },
      "execution_count": null,
      "outputs": [
        {
          "output_type": "stream",
          "name": "stdout",
          "text": [
            "Cloning into 'layoutlmv3FineTuning'...\n",
            "remote: Enumerating objects: 40, done.\u001b[K\n",
            "remote: Counting objects:   2% (1/40)\u001b[K\rremote: Counting objects:   5% (2/40)\u001b[K\rremote: Counting objects:   7% (3/40)\u001b[K\rremote: Counting objects:  10% (4/40)\u001b[K\rremote: Counting objects:  12% (5/40)\u001b[K\rremote: Counting objects:  15% (6/40)\u001b[K\rremote: Counting objects:  17% (7/40)\u001b[K\rremote: Counting objects:  20% (8/40)\u001b[K\rremote: Counting objects:  22% (9/40)\u001b[K\rremote: Counting objects:  25% (10/40)\u001b[K\rremote: Counting objects:  27% (11/40)\u001b[K\rremote: Counting objects:  30% (12/40)\u001b[K\rremote: Counting objects:  32% (13/40)\u001b[K\rremote: Counting objects:  35% (14/40)\u001b[K\rremote: Counting objects:  37% (15/40)\u001b[K\rremote: Counting objects:  40% (16/40)\u001b[K\rremote: Counting objects:  42% (17/40)\u001b[K\rremote: Counting objects:  45% (18/40)\u001b[K\rremote: Counting objects:  47% (19/40)\u001b[K\rremote: Counting objects:  50% (20/40)\u001b[K\rremote: Counting objects:  52% (21/40)\u001b[K\rremote: Counting objects:  55% (22/40)\u001b[K\rremote: Counting objects:  57% (23/40)\u001b[K\rremote: Counting objects:  60% (24/40)\u001b[K\rremote: Counting objects:  62% (25/40)\u001b[K\rremote: Counting objects:  65% (26/40)\u001b[K\rremote: Counting objects:  67% (27/40)\u001b[K\rremote: Counting objects:  70% (28/40)\u001b[K\rremote: Counting objects:  72% (29/40)\u001b[K\rremote: Counting objects:  75% (30/40)\u001b[K\rremote: Counting objects:  77% (31/40)\u001b[K\rremote: Counting objects:  80% (32/40)\u001b[K\rremote: Counting objects:  82% (33/40)\u001b[K\rremote: Counting objects:  85% (34/40)\u001b[K\rremote: Counting objects:  87% (35/40)\u001b[K\rremote: Counting objects:  90% (36/40)\u001b[K\rremote: Counting objects:  92% (37/40)\u001b[K\rremote: Counting objects:  95% (38/40)\u001b[K\rremote: Counting objects:  97% (39/40)\u001b[K\rremote: Counting objects: 100% (40/40)\u001b[K\rremote: Counting objects: 100% (40/40), done.\u001b[K\n",
            "remote: Compressing objects:   4% (1/24)\u001b[K\rremote: Compressing objects:   8% (2/24)\u001b[K\rremote: Compressing objects:  12% (3/24)\u001b[K\rremote: Compressing objects:  16% (4/24)\u001b[K\rremote: Compressing objects:  20% (5/24)\u001b[K\rremote: Compressing objects:  25% (6/24)\u001b[K\rremote: Compressing objects:  29% (7/24)\u001b[K\rremote: Compressing objects:  33% (8/24)\u001b[K\rremote: Compressing objects:  37% (9/24)\u001b[K\rremote: Compressing objects:  41% (10/24)\u001b[K\rremote: Compressing objects:  45% (11/24)\u001b[K\rremote: Compressing objects:  50% (12/24)\u001b[K\rremote: Compressing objects:  54% (13/24)\u001b[K\rremote: Compressing objects:  58% (14/24)\u001b[K\rremote: Compressing objects:  62% (15/24)\u001b[K\rremote: Compressing objects:  66% (16/24)\u001b[K\rremote: Compressing objects:  70% (17/24)\u001b[K\rremote: Compressing objects:  75% (18/24)\u001b[K\rremote: Compressing objects:  79% (19/24)\u001b[K\rremote: Compressing objects:  83% (20/24)\u001b[K\rremote: Compressing objects:  87% (21/24)\u001b[K\rremote: Compressing objects:  91% (22/24)\u001b[K\rremote: Compressing objects:  95% (23/24)\u001b[K\rremote: Compressing objects: 100% (24/24)\u001b[K\rremote: Compressing objects: 100% (24/24), done.\u001b[K\n",
            "remote: Total 40 (delta 14), reused 40 (delta 14), pack-reused 0\u001b[K\n",
            "Unpacking objects:   2% (1/40)   \rUnpacking objects:   5% (2/40)   \rUnpacking objects:   7% (3/40)   \rUnpacking objects:  10% (4/40)   \rUnpacking objects:  12% (5/40)   \rUnpacking objects:  15% (6/40)   \rUnpacking objects:  17% (7/40)   \rUnpacking objects:  20% (8/40)   \rUnpacking objects:  22% (9/40)   \rUnpacking objects:  25% (10/40)   \rUnpacking objects:  27% (11/40)   \rUnpacking objects:  30% (12/40)   \rUnpacking objects:  32% (13/40)   \rUnpacking objects:  35% (14/40)   \rUnpacking objects:  37% (15/40)   \rUnpacking objects:  40% (16/40)   \rUnpacking objects:  42% (17/40)   \rUnpacking objects:  45% (18/40)   \rUnpacking objects:  47% (19/40)   \rUnpacking objects:  50% (20/40)   \rUnpacking objects:  52% (21/40)   \rUnpacking objects:  55% (22/40)   \rUnpacking objects:  57% (23/40)   \rUnpacking objects:  60% (24/40)   \rUnpacking objects:  62% (25/40)   \rUnpacking objects:  65% (26/40)   \rUnpacking objects:  67% (27/40)   \rUnpacking objects:  70% (28/40)   \rUnpacking objects:  72% (29/40)   \rUnpacking objects:  75% (30/40)   \rUnpacking objects:  77% (31/40)   \rUnpacking objects:  80% (32/40)   \rUnpacking objects:  82% (33/40)   \rUnpacking objects:  85% (34/40)   \rUnpacking objects:  87% (35/40)   \rUnpacking objects:  90% (36/40)   \rUnpacking objects:  92% (37/40)   \rUnpacking objects:  95% (38/40)   \rUnpacking objects:  97% (39/40)   \rUnpacking objects: 100% (40/40)   \rUnpacking objects: 100% (40/40), done.\n"
          ]
        }
      ]
    },
    {
      "cell_type": "code",
      "source": [
        "import os\n",
        "import torch\n",
        "import warnings\n",
        "from PIL import Image\n",
        "\n",
        "warnings.filterwarnings('ignore')"
      ],
      "metadata": {
        "id": "GLMkKFLLWFIC"
      },
      "execution_count": null,
      "outputs": []
    },
    {
      "cell_type": "code",
      "source": [
        "# move all inference images from /content to 'images' folder\n",
        "os.makedirs('/content/images',exist_ok=True)\n",
        "for image in os.listdir():\n",
        "  try:\n",
        "    img = Image.open(f'{os.curdir}/{image}')\n",
        "    os.system(f'mv \"{image}\" \"images/{image}\"')\n",
        "  except:\n",
        "    pass"
      ],
      "metadata": {
        "id": "9175NQJIWJ_Y"
      },
      "execution_count": null,
      "outputs": []
    },
    {
      "cell_type": "code",
      "source": [
        "# defining inference parameters\n",
        "model_path = \"/content/drive/MyDrive/LayoutLM_data/layoutlmv3.pth\" # path to Layoutlmv3 model \n",
        "imag_path = \"/content/images\" # images folder "
      ],
      "metadata": {
        "id": "uR_iyy25k34W"
      },
      "execution_count": null,
      "outputs": []
    },
    {
      "cell_type": "code",
      "source": [
        "# if inference model is pth then convert it to pre-trained format\n",
        "if model_path.endswith('.pth'):\n",
        "  layoutlmv3_model = torch.load(model_path)\n",
        "  model_path = '/content/pre_trained_layoutlmv3'\n",
        "  layoutlmv3_model.save_pretrained(model_path)"
      ],
      "metadata": {
        "id": "agdzXPVej8aU",
        "colab": {
          "base_uri": "https://localhost:8080/",
          "height": 104,
          "referenced_widgets": [
            "06a65f9df1bf448cafdb297a16a5c2d6",
            "6c56fbd5c89d40beb75fe4953545a9b3",
            "993a42a24e4a45feaad38ac4d480730c",
            "6acd9fad4f6549b8b97ac0d3299d6443",
            "9c6c295255bb4678bfc38500ad352acc",
            "4095b32b0d524903ac9b7c1626dcd2cf",
            "98fe0e48e34942a8bc4787826b36d636",
            "29bc4ef91c71498ab8851e2fc40d9a01",
            "224220d596b4438895946f341876cd45",
            "4f93fe2f5ee542059868e1598d059b93",
            "afb50512718a46ec9512c6526031c59a"
          ]
        },
        "outputId": "d19a60c2-ee67-4d9b-b908-79c4c5fe296c"
      },
      "execution_count": null,
      "outputs": [
        {
          "output_type": "stream",
          "name": "stderr",
          "text": [
            "The cache for model files in Transformers v4.22.0 has been updated. Migrating your old cache. This is a one-time only operation. You can interrupt this and resume the migration later on by calling `transformers.utils.move_cache()`.\n"
          ]
        },
        {
          "output_type": "stream",
          "name": "stdout",
          "text": [
            "Moving 0 files to the new cache system\n"
          ]
        },
        {
          "output_type": "display_data",
          "data": {
            "text/plain": [
              "0it [00:00, ?it/s]"
            ],
            "application/vnd.jupyter.widget-view+json": {
              "version_major": 2,
              "version_minor": 0,
              "model_id": "06a65f9df1bf448cafdb297a16a5c2d6"
            }
          },
          "metadata": {}
        }
      ]
    },
    {
      "cell_type": "code",
      "source": [
        "# Call inference module\n",
        "! python3 /content/layoutlmv3FineTuning/run_inference.py --model_path \"$model_path\" --images_path $imag_path"
      ],
      "metadata": {
        "id": "id28vILoV3mI",
        "colab": {
          "base_uri": "https://localhost:8080/"
        },
        "outputId": "67d7574a-b79b-4d63-a461-63349bdb6f93"
      },
      "execution_count": null,
      "outputs": [
        {
          "output_type": "stream",
          "name": "stdout",
          "text": [
            "Tesseract Open Source OCR Engine v4.0.0-beta.1 with Leptonica\n",
            "Warning. Invalid resolution 0 dpi. Using 70 instead.\n",
            "Estimating resolution as 134\n",
            "Tesseract Open Source OCR Engine v4.0.0-beta.1 with Leptonica\n",
            "Error in findFileFormatStream: failed to read first 12 bytes of file\n",
            "terminate called after throwing an instance of 'std::__ios_failure'\n",
            "  what():  basic_filebuf::underflow error reading the file: iostream error\n",
            "Aborted (core dumped)\n"
          ]
        }
      ]
    }
  ]
}